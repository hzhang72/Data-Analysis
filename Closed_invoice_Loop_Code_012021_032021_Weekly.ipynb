{
 "cells": [
  {
   "cell_type": "markdown",
   "id": "c8377d64",
   "metadata": {},
   "source": [
    "### Load Packages"
   ]
  },
  {
   "cell_type": "code",
   "execution_count": 1,
   "id": "2ee96913",
   "metadata": {},
   "outputs": [],
   "source": [
    "import pandas as pd\n",
    "import numpy as np\n",
    "import os\n",
    "\n",
    "pd.options.mode.chained_assignment = None"
   ]
  },
  {
   "cell_type": "markdown",
   "id": "1fe883c4",
   "metadata": {},
   "source": [
    "### Import Excel Files"
   ]
  },
  {
   "cell_type": "code",
   "execution_count": 2,
   "id": "31925fd3",
   "metadata": {},
   "outputs": [
    {
     "name": "stderr",
     "output_type": "stream",
     "text": [
      "C:\\Users\\mazhang\\Anaconda3\\lib\\site-packages\\openpyxl\\styles\\stylesheet.py:221: UserWarning: Workbook contains no default style, apply openpyxl's default\n",
      "  warn(\"Workbook contains no default style, apply openpyxl's default\")\n"
     ]
    }
   ],
   "source": [
    "folder = r'C:\\Users\\mazhang\\Documents\\Jupyter Notebook\\2021 Weekly Closed Invoice\\Closed_invoice_01_03_2021'\n",
    "files = os.listdir(folder)\n",
    "\n",
    "excel_list = []\n",
    "for file in files:\n",
    "    if file.endswith('.xlsx'):\n",
    "        df = pd.read_excel(os.path.join(folder, file), sheet_name = None)\n",
    "        excel_list.append(df)"
   ]
  },
  {
   "cell_type": "markdown",
   "id": "9301ea85",
   "metadata": {},
   "source": [
    "### Generate Weekly Report with Accounting ID, Facility and  Bill Pay Category, etc."
   ]
  },
  {
   "cell_type": "code",
   "execution_count": 56,
   "id": "45070c7f",
   "metadata": {
    "scrolled": false
   },
   "outputs": [
    {
     "name": "stdout",
     "output_type": "stream",
     "text": [
      "(133, 7)\n",
      "(637, 7)\n",
      "(172, 7)\n",
      "(199, 7)\n",
      "(1132, 7)\n",
      "(121, 7)\n",
      "(576, 7)\n",
      "(140, 7)\n",
      "(1185, 7)\n",
      "(136, 7)\n",
      "(644, 7)\n",
      "(159, 7)\n"
     ]
    }
   ],
   "source": [
    "df_list = []\n",
    "\n",
    "for excel in range(len(excel_list)):\n",
    "    \n",
    "    df_header = excel_list[excel]['Header']\n",
    "    df_line = excel_list[excel]['Line']\n",
    "\n",
    "    df_select_header = df_header[['Accounting_CustomerID', 'CustomerID', 'DocNo', 'Facility', 'Bill To', 'InvoiceDate']]\n",
    "    df_drop_dup_header = df_select_header.drop_duplicates(subset = ['Accounting_CustomerID', 'DocNo',\n",
    "                                                                    'Facility', 'Bill To'])\n",
    "    \n",
    "    df_select_line = df_line[['CustomerID', 'Facility', 'Bill Pay Category', 'Bill To']]\n",
    "    df_drop_dup_line = df_select_line.drop_duplicates(subset = ['Facility', 'Bill To', 'Bill Pay Category'], \n",
    "                                                      keep = 'last')\n",
    "\n",
    "    df_combine_header_line = pd.merge(df_drop_dup_line, df_drop_dup_header, how = 'left', \n",
    "                                      on = ['Facility', 'Bill To']).T.drop_duplicates().T\n",
    "    df_combine_rename = df_combine_header_line.rename(columns = {\"CustomerID_x\": \"CustomerID\"})\n",
    "    df_combine_week = df_combine_rename.reindex(columns = ['Accounting_CustomerID', 'CustomerID', 'DocNo', 'Facility', \n",
    "                                                                 'Bill Pay Category', 'Bill To', 'InvoiceDate'])\n",
    "    print(df_combine_week.shape)\n",
    "    \n",
    "    df_list.append(df_combine_week)"
   ]
  },
  {
   "cell_type": "markdown",
   "id": "5238f213",
   "metadata": {},
   "source": [
    "### Generate Month Report with Accounting ID, Facility and  Bill Pay Category, etc."
   ]
  },
  {
   "cell_type": "code",
   "execution_count": 4,
   "id": "523b1b90",
   "metadata": {},
   "outputs": [
    {
     "name": "stdout",
     "output_type": "stream",
     "text": [
      "(133, 8)\n",
      "(770, 9)\n",
      "(942, 10)\n",
      "(1141, 11)\n",
      "(2273, 12)\n",
      "(2394, 13)\n",
      "(2970, 14)\n",
      "(3110, 15)\n",
      "(4295, 16)\n",
      "(4431, 17)\n",
      "(5075, 18)\n",
      "(5234, 19)\n",
      "(5234, 18)\n"
     ]
    }
   ],
   "source": [
    "df_combine_list = []\n",
    "df_combine_month = df_list[0]\n",
    "\n",
    "for df in range(len(df_list)):\n",
    "    \n",
    "    df_combine_month = pd.merge(df_combine_month, df_list[df], how = 'outer', \n",
    "                                  on = ['Accounting_CustomerID', 'CustomerID', 'DocNo', \n",
    "                                        'Facility', 'Bill Pay Category', 'Bill To'])\n",
    "    print(df_combine_month.shape)\n",
    "    \n",
    "    df_combine_list.append(df_combine_month)\n",
    "    \n",
    "df_output_init = df_combine_list[-1]\n",
    "df_output = df_output_init.T.drop_duplicates().T\n",
    "df_output.rename({'InvoiceDate_x':'InvoiceDate', 'InvoiceDate_y':'InvoiceDate'}, axis = 'columns', inplace = True)\n",
    "\n",
    "print(df_output.shape)"
   ]
  },
  {
   "cell_type": "code",
   "execution_count": 61,
   "id": "61464da5",
   "metadata": {},
   "outputs": [
    {
     "name": "stdout",
     "output_type": "stream",
     "text": [
      "['Accounting_CustomerID' 'CustomerID' 'DocNo' 'Facility'\n",
      " 'Bill Pay Category' 'Bill To' 'Week 1' 'Week 2' 'Week 3' 'Week 4'\n",
      " 'Week 5' 'Week 6' 'Week 7' 'Week 8' 'Week 9' 'Week 10' 'Week 11'\n",
      " 'Week 12']\n"
     ]
    }
   ],
   "source": [
    "ls1 = np.array(df_output.columns[0:6])\n",
    "\n",
    "ls2 = np.array([])\n",
    "for num in np.arange(1, 1 + len(df_output.columns[6:])):\n",
    "    ls2 = np.append(ls2, str('Week ') + str(num))\n",
    "\n",
    "week_name = np.append(ls1, ls2)\n",
    "print(week_name)\n",
    "\n",
    "df_output.columns = week_name"
   ]
  },
  {
   "cell_type": "code",
   "execution_count": 54,
   "id": "95c299d5",
   "metadata": {
    "scrolled": true
   },
   "outputs": [
    {
     "data": {
      "text/html": [
       "<div>\n",
       "<style scoped>\n",
       "    .dataframe tbody tr th:only-of-type {\n",
       "        vertical-align: middle;\n",
       "    }\n",
       "\n",
       "    .dataframe tbody tr th {\n",
       "        vertical-align: top;\n",
       "    }\n",
       "\n",
       "    .dataframe thead th {\n",
       "        text-align: right;\n",
       "    }\n",
       "</style>\n",
       "<table border=\"1\" class=\"dataframe\">\n",
       "  <thead>\n",
       "    <tr style=\"text-align: right;\">\n",
       "      <th></th>\n",
       "      <th>Accounting_CustomerID</th>\n",
       "      <th>CustomerID</th>\n",
       "      <th>DocNo</th>\n",
       "      <th>Facility</th>\n",
       "      <th>Bill Pay Category</th>\n",
       "      <th>Bill To</th>\n",
       "      <th>Week 1</th>\n",
       "      <th>Week 2</th>\n",
       "      <th>Week 3</th>\n",
       "      <th>Week 4</th>\n",
       "      <th>Week 5</th>\n",
       "      <th>Week 6</th>\n",
       "      <th>Week 7</th>\n",
       "      <th>Week 8</th>\n",
       "      <th>Week 9</th>\n",
       "      <th>Week 10</th>\n",
       "      <th>Week 11</th>\n",
       "      <th>Week 12</th>\n",
       "    </tr>\n",
       "  </thead>\n",
       "  <tbody>\n",
       "    <tr>\n",
       "      <th>0</th>\n",
       "      <td>SGCOMP0001</td>\n",
       "      <td>SGCOMP0001</td>\n",
       "      <td>19029476</td>\n",
       "      <td>Valley View</td>\n",
       "      <td>ACCESSORIAL</td>\n",
       "      <td>THE SG COMPANIES</td>\n",
       "      <td>01/09/2021</td>\n",
       "      <td>NaN</td>\n",
       "      <td>NaN</td>\n",
       "      <td>NaN</td>\n",
       "      <td>NaN</td>\n",
       "      <td>NaN</td>\n",
       "      <td>NaN</td>\n",
       "      <td>NaN</td>\n",
       "      <td>NaN</td>\n",
       "      <td>NaN</td>\n",
       "      <td>NaN</td>\n",
       "      <td>NaN</td>\n",
       "    </tr>\n",
       "    <tr>\n",
       "      <th>1</th>\n",
       "      <td>SGCOMP0001</td>\n",
       "      <td>SGCOMP0001</td>\n",
       "      <td>19029231</td>\n",
       "      <td>Valley View</td>\n",
       "      <td>ACCESSORIAL</td>\n",
       "      <td>THE SG COMPANIES</td>\n",
       "      <td>01/05/2021</td>\n",
       "      <td>NaN</td>\n",
       "      <td>NaN</td>\n",
       "      <td>NaN</td>\n",
       "      <td>NaN</td>\n",
       "      <td>NaN</td>\n",
       "      <td>NaN</td>\n",
       "      <td>NaN</td>\n",
       "      <td>NaN</td>\n",
       "      <td>NaN</td>\n",
       "      <td>NaN</td>\n",
       "      <td>NaN</td>\n",
       "    </tr>\n",
       "    <tr>\n",
       "      <th>2</th>\n",
       "      <td>CHRGEN0001</td>\n",
       "      <td>CHRGEN0001</td>\n",
       "      <td>19029455</td>\n",
       "      <td>Via Baron</td>\n",
       "      <td>ACCESSORIAL</td>\n",
       "      <td>C.H.ROBINSON-GENERAC VB</td>\n",
       "      <td>01/09/2021</td>\n",
       "      <td>NaN</td>\n",
       "      <td>NaN</td>\n",
       "      <td>NaN</td>\n",
       "      <td>NaN</td>\n",
       "      <td>NaN</td>\n",
       "      <td>NaN</td>\n",
       "      <td>NaN</td>\n",
       "      <td>NaN</td>\n",
       "      <td>NaN</td>\n",
       "      <td>NaN</td>\n",
       "      <td>NaN</td>\n",
       "    </tr>\n",
       "    <tr>\n",
       "      <th>3</th>\n",
       "      <td>CHRGEN0001</td>\n",
       "      <td>CHRGEN0001</td>\n",
       "      <td>19029455</td>\n",
       "      <td>Via Baron</td>\n",
       "      <td>HANDLING</td>\n",
       "      <td>C.H.ROBINSON-GENERAC VB</td>\n",
       "      <td>01/09/2021</td>\n",
       "      <td>NaN</td>\n",
       "      <td>NaN</td>\n",
       "      <td>NaN</td>\n",
       "      <td>NaN</td>\n",
       "      <td>NaN</td>\n",
       "      <td>NaN</td>\n",
       "      <td>NaN</td>\n",
       "      <td>NaN</td>\n",
       "      <td>NaN</td>\n",
       "      <td>NaN</td>\n",
       "      <td>NaN</td>\n",
       "    </tr>\n",
       "    <tr>\n",
       "      <th>4</th>\n",
       "      <td>CUBWOR0001</td>\n",
       "      <td>CUBWOR0001</td>\n",
       "      <td>19029404</td>\n",
       "      <td>New Jersey</td>\n",
       "      <td>HANDLING</td>\n",
       "      <td>CUBEWORK</td>\n",
       "      <td>01/08/2021</td>\n",
       "      <td>NaN</td>\n",
       "      <td>NaN</td>\n",
       "      <td>NaN</td>\n",
       "      <td>NaN</td>\n",
       "      <td>NaN</td>\n",
       "      <td>NaN</td>\n",
       "      <td>NaN</td>\n",
       "      <td>NaN</td>\n",
       "      <td>NaN</td>\n",
       "      <td>NaN</td>\n",
       "      <td>NaN</td>\n",
       "    </tr>\n",
       "  </tbody>\n",
       "</table>\n",
       "</div>"
      ],
      "text/plain": [
       "  Accounting_CustomerID  CustomerID     DocNo     Facility Bill Pay Category  \\\n",
       "0            SGCOMP0001  SGCOMP0001  19029476  Valley View       ACCESSORIAL   \n",
       "1            SGCOMP0001  SGCOMP0001  19029231  Valley View       ACCESSORIAL   \n",
       "2            CHRGEN0001  CHRGEN0001  19029455    Via Baron       ACCESSORIAL   \n",
       "3            CHRGEN0001  CHRGEN0001  19029455    Via Baron          HANDLING   \n",
       "4            CUBWOR0001  CUBWOR0001  19029404   New Jersey          HANDLING   \n",
       "\n",
       "                   Bill To      Week 1 Week 2 Week 3 Week 4 Week 5 Week 6  \\\n",
       "0         THE SG COMPANIES  01/09/2021    NaN    NaN    NaN    NaN    NaN   \n",
       "1         THE SG COMPANIES  01/05/2021    NaN    NaN    NaN    NaN    NaN   \n",
       "2  C.H.ROBINSON-GENERAC VB  01/09/2021    NaN    NaN    NaN    NaN    NaN   \n",
       "3  C.H.ROBINSON-GENERAC VB  01/09/2021    NaN    NaN    NaN    NaN    NaN   \n",
       "4                 CUBEWORK  01/08/2021    NaN    NaN    NaN    NaN    NaN   \n",
       "\n",
       "  Week 7 Week 8 Week 9 Week 10 Week 11 Week 12  \n",
       "0    NaN    NaN    NaN     NaN     NaN     NaN  \n",
       "1    NaN    NaN    NaN     NaN     NaN     NaN  \n",
       "2    NaN    NaN    NaN     NaN     NaN     NaN  \n",
       "3    NaN    NaN    NaN     NaN     NaN     NaN  \n",
       "4    NaN    NaN    NaN     NaN     NaN     NaN  "
      ]
     },
     "execution_count": 54,
     "metadata": {},
     "output_type": "execute_result"
    }
   ],
   "source": [
    "df_output.head()"
   ]
  },
  {
   "cell_type": "markdown",
   "id": "3ffa0e31",
   "metadata": {},
   "source": [
    "### Export Quarter Report As Excel File"
   ]
  },
  {
   "cell_type": "code",
   "execution_count": 55,
   "id": "a0f7093e",
   "metadata": {},
   "outputs": [],
   "source": [
    "# df_output.to_excel(\"01_03_2021 Weekly Report.xlsx\", index = False, header = True)"
   ]
  },
  {
   "cell_type": "code",
   "execution_count": null,
   "id": "8d498111",
   "metadata": {},
   "outputs": [],
   "source": []
  }
 ],
 "metadata": {
  "kernelspec": {
   "display_name": "Python 3",
   "language": "python",
   "name": "python3"
  },
  "language_info": {
   "codemirror_mode": {
    "name": "ipython",
    "version": 3
   },
   "file_extension": ".py",
   "mimetype": "text/x-python",
   "name": "python",
   "nbconvert_exporter": "python",
   "pygments_lexer": "ipython3",
   "version": "3.8.8"
  }
 },
 "nbformat": 4,
 "nbformat_minor": 5
}
