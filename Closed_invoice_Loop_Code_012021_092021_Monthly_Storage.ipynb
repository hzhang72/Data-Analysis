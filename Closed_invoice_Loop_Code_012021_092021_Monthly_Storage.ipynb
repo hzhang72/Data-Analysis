{
 "cells": [
  {
   "cell_type": "markdown",
   "id": "c8377d64",
   "metadata": {},
   "source": [
    "### Load Packages"
   ]
  },
  {
   "cell_type": "code",
   "execution_count": null,
   "id": "2ee96913",
   "metadata": {},
   "outputs": [],
   "source": [
    "import pandas as pd\n",
    "import numpy as np\n",
    "import os\n",
    "import warnings\n",
    "\n",
    "warnings.simplefilter(\"ignore\")\n",
    "\n",
    "pd.options.mode.chained_assignment = None"
   ]
  },
  {
   "cell_type": "markdown",
   "id": "1fe883c4",
   "metadata": {},
   "source": [
    "### Import Excel Files"
   ]
  },
  {
   "cell_type": "code",
   "execution_count": null,
   "id": "31925fd3",
   "metadata": {},
   "outputs": [],
   "source": [
    "folder = r'C:\\Users\\mazhang\\Documents\\Jupyter Notebook\\2021 Monthly Closed Invoice'\n",
    "files = os.listdir(folder)\n",
    "\n",
    "excel_list = []\n",
    "for file in files:\n",
    "    if file.endswith('.xlsx'):\n",
    "        df = pd.read_excel(os.path.join(folder, file), sheet_name = None)\n",
    "        excel_list.append(df)"
   ]
  },
  {
   "cell_type": "markdown",
   "id": "9301ea85",
   "metadata": {},
   "source": [
    "### Generate Monthly Report with Accounting ID, Facility and  Bill Pay Category = Storage, etc."
   ]
  },
  {
   "cell_type": "code",
   "execution_count": null,
   "id": "7f6dbe54",
   "metadata": {
    "scrolled": false
   },
   "outputs": [],
   "source": [
    "df_list = []\n",
    "\n",
    "for excel in range(len(excel_list)):\n",
    "    \n",
    "    df_header = excel_list[excel]['Header']\n",
    "#     df_line = excel_list[excel]['Line']\n",
    "    df_detail = excel_list[excel]['Detail']\n",
    " \n",
    "\n",
    "    df_select_detail_int = df_detail[['CustomerID', 'DocNo', 'Facility',\n",
    "                                      'Header Billing Period Start', 'Bill Pay Category']]\n",
    "    df_select_detail = df_select_detail_int.loc[df_select_detail_int['Bill Pay Category'] == 'STORAGE INCOME']\n",
    "       \n",
    "    df_select_header = df_header[['Accounting_CustomerID', 'DocNo', 'Bill To']]\n",
    " \n",
    "\n",
    "    df_combine_header_detail = pd.merge(df_select_detail, df_select_header, how = 'left',  on = ['DocNo']) \n",
    "    \n",
    "    df_drop_dup_header = df_combine_header_detail.drop_duplicates()\n",
    "    \n",
    "    df_combine_rename = df_drop_dup_header.rename(columns = {'Header Billing Period Start':'Billing Period Start'})\n",
    "\n",
    "    df_combine_month = df_combine_rename.reindex(columns = ['Accounting_CustomerID', 'CustomerID', 'Facility', \n",
    "                                                            'Bill Pay Category', 'Bill To', \n",
    "                                                            'Billing Period Start', 'DocNo'])\n",
    "    \n",
    "    print(df_combine_month.shape)\n",
    "    \n",
    "    df_list.append(df_combine_month)"
   ]
  },
  {
   "cell_type": "code",
   "execution_count": null,
   "id": "7f481e71",
   "metadata": {},
   "outputs": [],
   "source": [
    "df_list[len(df_list) - 1].sort_values('Accounting_CustomerID')"
   ]
  },
  {
   "cell_type": "markdown",
   "id": "5238f213",
   "metadata": {},
   "source": [
    "### Generate Monthly Report with Accounting ID, Facility and  Bill Pay Category = Storage, etc."
   ]
  },
  {
   "cell_type": "code",
   "execution_count": null,
   "id": "523b1b90",
   "metadata": {
    "scrolled": true
   },
   "outputs": [],
   "source": [
    "df_combine_list = []\n",
    "df_combine_quarter = df_list[0]\n",
    "\n",
    "for df in range(1, len(df_list)):\n",
    "    \n",
    "    df_combine_quarter = pd.merge(df_combine_quarter, df_list[df], how = 'outer', \n",
    "                                  on = ['Accounting_CustomerID', 'CustomerID', 'Facility', 'Bill Pay Category', 'Bill To'])\n",
    "    print(df_combine_quarter.shape)\n",
    "    \n",
    "    df_combine_list.append(df_combine_quarter)\n",
    "    \n",
    "df_output_init = df_combine_list[-1]\n",
    "df_output = df_output_init.drop_duplicates()\n",
    "\n",
    "df_output.columns = df_output.columns.str.replace('_x', '')\n",
    "df_output.columns = df_output.columns.str.replace('_y', '')"
   ]
  },
  {
   "cell_type": "markdown",
   "id": "f6c4a5a9",
   "metadata": {},
   "source": [
    "### Generate Monthly Report with Billing Count and without Invoice Number"
   ]
  },
  {
   "cell_type": "code",
   "execution_count": null,
   "id": "c491beb8",
   "metadata": {},
   "outputs": [],
   "source": [
    "df_drop_iv = df_output.copy(deep = True)\n",
    "df_drop_iv.drop('DocNo', inplace = True, axis = 1)\n",
    "\n",
    "df_count = df_drop_iv.drop_duplicates()\n",
    "df_count['Count'] = df_count.drop(df_count.columns[0:5], axis = 1).nunique(axis = 1)\n",
    "df_count"
   ]
  },
  {
   "cell_type": "code",
   "execution_count": null,
   "id": "6ce3cfe6",
   "metadata": {},
   "outputs": [],
   "source": [
    "# df_count.to_excel(\"012021_092021 Monthly Report Category Count.xlsx\", index = False, header = True)"
   ]
  },
  {
   "cell_type": "markdown",
   "id": "3ffa0e31",
   "metadata": {},
   "source": [
    "### Export Monthly Report As Excel File"
   ]
  },
  {
   "cell_type": "code",
   "execution_count": null,
   "id": "70d09952",
   "metadata": {},
   "outputs": [],
   "source": [
    "month = np.array(['Jan', 'Feb', 'Mar', 'Apr', 'May', 'Jun', 'Jul', 'Aug', 'Sep'])\n",
    "\n",
    "bp = np.where(df_output.columns.values == 'Billing Period Start')\n",
    "dn = np.where(df_output.columns.values == 'DocNo')\n",
    "\n",
    "dn_month = [x + '_DocNo' for x in month]\n",
    "\n",
    "df_output.columns.values[bp] = month\n",
    "df_output.columns.values[dn] = dn_month"
   ]
  },
  {
   "cell_type": "code",
   "execution_count": null,
   "id": "daee14c5",
   "metadata": {
    "scrolled": true
   },
   "outputs": [],
   "source": [
    "df_output"
   ]
  },
  {
   "cell_type": "code",
   "execution_count": null,
   "id": "c16bd722",
   "metadata": {},
   "outputs": [],
   "source": [
    "# df_output.to_excel(\"012021_092021 Monthly Report Category.xlsx\", index = False, header = True)"
   ]
  },
  {
   "cell_type": "code",
   "execution_count": null,
   "id": "5705b541",
   "metadata": {},
   "outputs": [],
   "source": []
  }
 ],
 "metadata": {
  "kernelspec": {
   "display_name": "Python 3",
   "language": "python",
   "name": "python3"
  },
  "language_info": {
   "codemirror_mode": {
    "name": "ipython",
    "version": 3
   },
   "file_extension": ".py",
   "mimetype": "text/x-python",
   "name": "python",
   "nbconvert_exporter": "python",
   "pygments_lexer": "ipython3",
   "version": "3.8.8"
  }
 },
 "nbformat": 4,
 "nbformat_minor": 5
}
