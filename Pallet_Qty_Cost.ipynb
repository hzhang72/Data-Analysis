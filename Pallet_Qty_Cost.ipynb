{
 "cells": [
  {
   "cell_type": "markdown",
   "id": "c8377d64",
   "metadata": {},
   "source": [
    "### Load Packages"
   ]
  },
  {
   "cell_type": "code",
   "execution_count": null,
   "id": "2ee96913",
   "metadata": {},
   "outputs": [],
   "source": [
    "import pandas as pd\n",
    "import numpy as np\n",
    "import os\n",
    "import warnings\n",
    "import re\n",
    "import datetime\n",
    "import copy\n",
    "\n",
    "warnings.simplefilter(\"ignore\")\n",
    "\n",
    "pd.options.mode.chained_assignment = None"
   ]
  },
  {
   "cell_type": "markdown",
   "id": "1fe883c4",
   "metadata": {},
   "source": [
    "### Import Excel Files"
   ]
  },
  {
   "cell_type": "code",
   "execution_count": null,
   "id": "31925fd3",
   "metadata": {},
   "outputs": [],
   "source": [
    "folder = r'C:\\Users\\mazhang\\Documents\\Jupyter Notebook\\Semi-Monthly Closed Invoice\\2022 Semi-Monthly Closed Invoice\\2022 Semi-Monthly Report\\Semi-Monthly Report Pallet Qty'\n",
    "files = os.listdir(folder)\n",
    "\n",
    "excel_list = []\n",
    "for file in files:\n",
    "    if file.endswith('.xlsx'):\n",
    "        df = pd.read_excel(os.path.join(folder, file), sheet_name = None)\n",
    "        excel_list.append(df)"
   ]
  },
  {
   "cell_type": "code",
   "execution_count": null,
   "id": "46530a55",
   "metadata": {
    "scrolled": true
   },
   "outputs": [],
   "source": [
    "acc = excel_list[0]['Sheet1'][['WISE Facility', 'Item', 'Billing Period Start',  'BillingCode', 'Qty']]\n",
    "acc = acc.rename(columns={'Qty':'Billing Qty'})\n",
    "acc"
   ]
  },
  {
   "cell_type": "code",
   "execution_count": null,
   "id": "75ee7d48",
   "metadata": {
    "scrolled": true
   },
   "outputs": [],
   "source": [
    "acc_cus = acc.loc[acc['Item'] == 'Customized Size Pallet']\n",
    "acc_cus['Billing Pallet Type'] = np.nan\n",
    "\n",
    "for i in range(len(acc_cus['BillingCode'])):   \n",
    "    p = acc_cus['BillingCode'].iloc[i].split(',')[-1].replace(';', '').replace(' ', '').partition('pallet')[-1]    \n",
    "    pp = re.sub('[x][0-9][0-9]', lambda x: x[0] + ' ', p)    \n",
    "    ppp = re.sub('^[t]', '', pp)    \n",
    "    pppp = re.sub('\\s$', '', ppp)    \n",
    "    acc_cus['Billing Pallet Type'].iloc[i] = pppp\n",
    "\n",
    "acc_cus"
   ]
  },
  {
   "cell_type": "code",
   "execution_count": null,
   "id": "282c2438",
   "metadata": {},
   "outputs": [],
   "source": [
    "np.unique(acc_cus['Billing Pallet Type'])"
   ]
  },
  {
   "cell_type": "code",
   "execution_count": null,
   "id": "cdf953e3",
   "metadata": {
    "scrolled": true
   },
   "outputs": [],
   "source": [
    "acc_a = acc.loc[acc['Item'] == 'Grade A Pallet']\n",
    "acc_a['Billing Pallet Type'] = '48x40 #1'\n",
    "\n",
    "acc_b = acc.loc[acc['Item'] == 'Grade B Pallet']\n",
    "acc_b['Billing Pallet Type'] = '48x40 #2'\n",
    "\n",
    "acc_cb = acc_a.append(acc_b).append(acc_cus)\n",
    "acc_cb = acc_cb.sort_values(['WISE Facility', 'Billing Period Start'])\n",
    "acc_cb"
   ]
  },
  {
   "cell_type": "code",
   "execution_count": null,
   "id": "a2ba7be9",
   "metadata": {},
   "outputs": [],
   "source": [
    "np.unique(acc_cb['WISE Facility'])"
   ]
  },
  {
   "cell_type": "code",
   "execution_count": null,
   "id": "28cca5e3",
   "metadata": {},
   "outputs": [],
   "source": [
    "df_acc = acc_cb.groupby(['WISE Facility', 'Item', 'Billing Period Start', \n",
    "                         'Billing Pallet Type'])['Billing Qty'].sum().reset_index()\n",
    "df_acc"
   ]
  },
  {
   "cell_type": "code",
   "execution_count": null,
   "id": "0590c537",
   "metadata": {},
   "outputs": [],
   "source": []
  },
  {
   "cell_type": "code",
   "execution_count": null,
   "id": "8a34dc97",
   "metadata": {
    "scrolled": false
   },
   "outputs": [],
   "source": [
    "pal = excel_list[1]['Sheet1'][['WISE Facility', 'Order Date', 'Pallet Type', 'Description', 'Order Qty']]\n",
    "pal = pal.rename(columns={'Pallet Type':'Purchase Pallet Type', 'Order Date':'Purchase Order Date'})\n",
    "\n",
    "# pal['Received Qty'] = pal['Received Qty'].replace(0, np.nan)\n",
    "\n",
    "# pal = pal.dropna(subset=['Facility', 'Received Qty'])\n",
    "\n",
    "pal['Purchase Order Date'] = pal['Purchase Order Date'].dt.month_name(locale='English').str.slice(stop=3)\n",
    "pal['Purchase Pallet Type'] = pal['Purchase Pallet Type'].str.lower()\n",
    "pal['WISE Facility'] = pal['WISE Facility'].replace(['Buena Park', 'GP Texas', 'Memphis 2', 'Portage', 'NJ'],\n",
    "                                          ['Valley View', 'Grand Prairie', 'Quality-4400', 'Indiana', 'New Jersey'])\n",
    "\n",
    "pal"
   ]
  },
  {
   "cell_type": "code",
   "execution_count": null,
   "id": "d759a62a",
   "metadata": {
    "scrolled": true
   },
   "outputs": [],
   "source": [
    "np.unique(pal['WISE Facility'])"
   ]
  },
  {
   "cell_type": "code",
   "execution_count": null,
   "id": "a3576268",
   "metadata": {
    "scrolled": true
   },
   "outputs": [],
   "source": [
    "pal['Item'] = np.nan\n",
    "\n",
    "for i in range(len(pal['Purchase Pallet Type'])):\n",
    "    if pal['Purchase Pallet Type'].iloc[i] == '48x40 #1':\n",
    "        pal['Item'].iloc[i] = 'Grade A Pallet'\n",
    "        \n",
    "    elif pal['Purchase Pallet Type'].iloc[i] == '48x40 #2':\n",
    "        pal['Item'].iloc[i] = 'Grade B Pallet'  \n",
    "        \n",
    "    else:\n",
    "        pal['Item'].iloc[i] = 'Customized Size Pallet'        \n",
    "        \n",
    "pal"
   ]
  },
  {
   "cell_type": "code",
   "execution_count": null,
   "id": "308648c0",
   "metadata": {},
   "outputs": [],
   "source": []
  },
  {
   "cell_type": "code",
   "execution_count": null,
   "id": "3cdce961",
   "metadata": {},
   "outputs": [],
   "source": [
    "df_pal = pal.groupby(['WISE Facility', 'Item', 'Purchase Order Date', 'Purchase Pallet Type'])['Order Qty'].sum().reset_index()\n",
    "df_pal"
   ]
  },
  {
   "cell_type": "code",
   "execution_count": null,
   "id": "e468ac5b",
   "metadata": {},
   "outputs": [],
   "source": [
    "df_acc['Billing Pallet Type'].isin(df_pal['Purchase Pallet Type']).value_counts()"
   ]
  },
  {
   "cell_type": "code",
   "execution_count": null,
   "id": "867c9508",
   "metadata": {},
   "outputs": [],
   "source": []
  },
  {
   "cell_type": "code",
   "execution_count": null,
   "id": "bc12a583",
   "metadata": {},
   "outputs": [],
   "source": [
    "df_cb = pd.merge(df_acc, df_pal, left_on = ['WISE Facility', 'Billing Period Start', 'Billing Pallet Type', 'Item'],\n",
    "                right_on = ['WISE Facility', 'Purchase Order Date', 'Purchase Pallet Type', 'Item'], how = 'outer')\n",
    "df_cb"
   ]
  },
  {
   "cell_type": "code",
   "execution_count": null,
   "id": "b5997edc",
   "metadata": {},
   "outputs": [],
   "source": [
    "# df_cb.to_excel(\"012021_112021 Billing and Purchase Pallet.xlsx\", index = False, header = True)"
   ]
  },
  {
   "cell_type": "code",
   "execution_count": null,
   "id": "a5a31eef",
   "metadata": {},
   "outputs": [],
   "source": []
  },
  {
   "cell_type": "markdown",
   "id": "b4bc8dfd",
   "metadata": {},
   "source": [
    "### Remove block and stringer"
   ]
  },
  {
   "cell_type": "code",
   "execution_count": null,
   "id": "f0762c9f",
   "metadata": {},
   "outputs": [],
   "source": [
    "acc_cb2 = copy.deepcopy(acc_cb)\n",
    "pal2 = copy.deepcopy(pal)"
   ]
  },
  {
   "cell_type": "code",
   "execution_count": null,
   "id": "e7db1bef",
   "metadata": {},
   "outputs": [],
   "source": []
  },
  {
   "cell_type": "code",
   "execution_count": null,
   "id": "3cf8e390",
   "metadata": {},
   "outputs": [],
   "source": [
    "np.unique(acc_cb2['Billing Pallet Type'])"
   ]
  },
  {
   "cell_type": "code",
   "execution_count": null,
   "id": "98f0e39a",
   "metadata": {},
   "outputs": [],
   "source": [
    "for i in range(len(acc_cb2['Billing Pallet Type'])):\n",
    "    \n",
    "    acc_cb2['Billing Pallet Type'].iloc[i] = re.sub('\\s[a-z]+', '', acc_cb2['Billing Pallet Type'].iloc[i])\n",
    "    acc_cb2['Billing Pallet Type'].iloc[i] = re.sub('[a-z]+90x40', '90x40', acc_cb2['Billing Pallet Type'].iloc[i])\n",
    "\n",
    "np.unique(acc_cb2['Billing Pallet Type'])"
   ]
  },
  {
   "cell_type": "code",
   "execution_count": null,
   "id": "e76bbddb",
   "metadata": {},
   "outputs": [],
   "source": [
    "df_acc2 = acc_cb2.groupby(['WISE Facility', 'Item', 'Billing Period Start', \n",
    "                         'Billing Pallet Type'])['Billing Qty'].sum().reset_index()\n",
    "df_acc2"
   ]
  },
  {
   "cell_type": "code",
   "execution_count": null,
   "id": "ab99d12b",
   "metadata": {},
   "outputs": [],
   "source": []
  },
  {
   "cell_type": "code",
   "execution_count": null,
   "id": "7845983f",
   "metadata": {},
   "outputs": [],
   "source": [
    "np.unique(pal2['Purchase Pallet Type'])"
   ]
  },
  {
   "cell_type": "code",
   "execution_count": null,
   "id": "8775d08e",
   "metadata": {},
   "outputs": [],
   "source": [
    "for i in range(len(pal2['Purchase Pallet Type'])):\n",
    "    \n",
    "    pal2['Purchase Pallet Type'].iloc[i] = re.sub('\\s[a-z]+', '', pal2['Purchase Pallet Type'].iloc[i])\n",
    "\n",
    "np.unique(pal2['Purchase Pallet Type'])"
   ]
  },
  {
   "cell_type": "code",
   "execution_count": null,
   "id": "ddea5d08",
   "metadata": {},
   "outputs": [],
   "source": [
    "df_pal2 = pal2.groupby(['WISE Facility', 'Item', 'Purchase Order Date', 'Purchase Pallet Type'])['Order Qty'].sum().reset_index()\n",
    "df_pal2"
   ]
  },
  {
   "cell_type": "code",
   "execution_count": null,
   "id": "026dac81",
   "metadata": {},
   "outputs": [],
   "source": [
    "df_cb2 = pd.merge(df_acc2, df_pal2, left_on = ['WISE Facility', 'Billing Period Start', 'Billing Pallet Type', 'Item'],\n",
    "                right_on = ['WISE Facility', 'Purchase Order Date', 'Purchase Pallet Type', 'Item'], how = 'outer')\n",
    "df_cb2"
   ]
  },
  {
   "cell_type": "code",
   "execution_count": null,
   "id": "15bea95f",
   "metadata": {},
   "outputs": [],
   "source": [
    "df_cb2.to_excel(\"2022 Billing and Purchase Pallet.xlsx\", index = False, header = True)"
   ]
  },
  {
   "cell_type": "code",
   "execution_count": null,
   "id": "f41f7767",
   "metadata": {},
   "outputs": [],
   "source": []
  }
 ],
 "metadata": {
  "kernelspec": {
   "display_name": "Python 3 (ipykernel)",
   "language": "python",
   "name": "python3"
  },
  "language_info": {
   "codemirror_mode": {
    "name": "ipython",
    "version": 3
   },
   "file_extension": ".py",
   "mimetype": "text/x-python",
   "name": "python",
   "nbconvert_exporter": "python",
   "pygments_lexer": "ipython3",
   "version": "3.9.4"
  }
 },
 "nbformat": 4,
 "nbformat_minor": 5
}
