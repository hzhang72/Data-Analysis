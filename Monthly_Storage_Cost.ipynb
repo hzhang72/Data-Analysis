{
 "cells": [
  {
   "cell_type": "markdown",
   "id": "c8377d64",
   "metadata": {},
   "source": [
    "### Load Packages"
   ]
  },
  {
   "cell_type": "code",
   "execution_count": null,
   "id": "2ee96913",
   "metadata": {},
   "outputs": [],
   "source": [
    "import pandas as pd\n",
    "import numpy as np\n",
    "import os\n",
    "import warnings\n",
    "import datetime\n",
    "import re\n",
    "\n",
    "warnings.simplefilter(\"ignore\")\n",
    "\n",
    "pd.options.mode.chained_assignment = None"
   ]
  },
  {
   "cell_type": "markdown",
   "id": "1fe883c4",
   "metadata": {},
   "source": [
    "### Import Excel Files"
   ]
  },
  {
   "cell_type": "code",
   "execution_count": null,
   "id": "31925fd3",
   "metadata": {},
   "outputs": [],
   "source": [
    "folder = r'C:\\Users\\mazhang\\Documents\\Jupyter Notebook\\Monthly Closed Invoice\\2022 Monthly Closed Invoice'\n",
    "files = os.listdir(folder)\n",
    "\n",
    "excel_list = []\n",
    "for file in files:\n",
    "    if file.endswith('.xlsx'):\n",
    "        df = pd.read_excel(os.path.join(folder, file), sheet_name = None)\n",
    "        excel_list.append(df)"
   ]
  },
  {
   "cell_type": "markdown",
   "id": "9301ea85",
   "metadata": {},
   "source": [
    "### Generate Monthly Report with Accounting ID, Facility and  Bill Pay Category = Storage, etc."
   ]
  },
  {
   "cell_type": "code",
   "execution_count": null,
   "id": "7f6dbe54",
   "metadata": {
    "scrolled": false
   },
   "outputs": [],
   "source": [
    "df_list = []\n",
    "\n",
    "month = ['Jan', 'Feb', 'Mar']\n",
    "\n",
    "for excel in range(len(excel_list)):\n",
    "    \n",
    "    df_header = excel_list[excel]['Header']\n",
    "    \n",
    "    df_detail = excel_list[excel]['Detail']\n",
    " \n",
    "\n",
    "    df_select_detail_int = df_detail[['CustomerID', 'DocNo', 'WISE Facility',\n",
    "                                      'Header Billing Period Start', 'Bill Pay Category']]\n",
    "    df_select_detail = df_select_detail_int.loc[df_select_detail_int['Bill Pay Category'] == 'STORAGE INCOME']\n",
    "    \n",
    "\n",
    "    df_select_header = df_header[['Accounting_CustomerID', 'DocNo', 'Bill To']]\n",
    " \n",
    "\n",
    "    df_combine_header_detail = pd.merge(df_select_detail, df_select_header, how = 'left',  on = ['DocNo']) \n",
    "    \n",
    "    df_drop_dup_header = df_combine_header_detail.drop_duplicates()\n",
    "    \n",
    "    df_combine_rename = df_drop_dup_header.rename(columns = {'Header Billing Period Start':'Billing Period Start'})\n",
    "\n",
    "    df_combine_month = df_combine_rename.reindex(columns = ['Accounting_CustomerID', 'CustomerID', 'WISE Facility', \n",
    "                                                            'Bill Pay Category', 'Bill To', \n",
    "                                                            'Billing Period Start', 'DocNo'])\n",
    "    \n",
    "    df_combine_month = df_combine_month.rename(columns = {'Billing Period Start':month[excel]})\n",
    "    \n",
    "    print(df_combine_month.shape)\n",
    "    \n",
    "    df_list.append(df_combine_month)"
   ]
  },
  {
   "cell_type": "code",
   "execution_count": null,
   "id": "7f481e71",
   "metadata": {
    "scrolled": false
   },
   "outputs": [],
   "source": [
    "df_list[len(df_list) - 1].sort_values('Accounting_CustomerID')"
   ]
  },
  {
   "cell_type": "markdown",
   "id": "5238f213",
   "metadata": {},
   "source": [
    "### Generate Monthly Report with Accounting ID, Facility and  Bill Pay Category = Storage, etc."
   ]
  },
  {
   "cell_type": "code",
   "execution_count": null,
   "id": "523b1b90",
   "metadata": {
    "scrolled": true
   },
   "outputs": [],
   "source": [
    "df_combine_list = []\n",
    "df_combine_quarter = df_list[0]\n",
    "\n",
    "for df in range(1, len(df_list)):\n",
    "    \n",
    "    df_combine_quarter = pd.merge(df_combine_quarter, df_list[df], how = 'outer', \n",
    "                                  on = ['Accounting_CustomerID', 'CustomerID', 'WISE Facility', 'Bill Pay Category', 'Bill To'])\n",
    "    print(df_combine_quarter.shape)\n",
    "    \n",
    "    df_combine_list.append(df_combine_quarter)\n",
    "    \n",
    "# df_output_init = df_combine_list[-1]\n",
    "df_output_init = df_combine_quarter\n",
    "df_output = df_output_init.drop_duplicates()\n",
    "\n",
    "df_output.columns = df_output.columns.str.replace('_x', '')\n",
    "df_output.columns = df_output.columns.str.replace('_y', '')"
   ]
  },
  {
   "cell_type": "markdown",
   "id": "f6c4a5a9",
   "metadata": {},
   "source": [
    "### Generate Monthly Report with Billing Count and without Invoice Number"
   ]
  },
  {
   "cell_type": "code",
   "execution_count": null,
   "id": "c491beb8",
   "metadata": {},
   "outputs": [],
   "source": [
    "df_drop_iv = df_output.copy(deep = True)\n",
    "df_drop_iv.drop('DocNo', inplace = True, axis = 1)\n",
    "\n",
    "df_count = df_drop_iv.drop_duplicates()\n",
    "df_count['Count'] = df_count.drop(df_count.columns[0:5], axis = 1).nunique(axis = 1)\n",
    "df_count = df_count.sort_values(['WISE Facility', 'Accounting_CustomerID', 'CustomerID'])\n",
    "df_count['WISE Facility'] = df_count['WISE Facility'].str.title()\n",
    "df_count['Bill To'] = df_count['Bill To'].str.upper()\n",
    "df_count = df_count.drop_duplicates(['WISE Facility', 'Accounting_CustomerID', 'CustomerID'])\n",
    "df_count"
   ]
  },
  {
   "cell_type": "code",
   "execution_count": null,
   "id": "6ce3cfe6",
   "metadata": {},
   "outputs": [],
   "source": [
    "# df_count.to_excel(\"012022_012022 Monthly Report Storage Count.xlsx\", index = False, header = True)"
   ]
  },
  {
   "cell_type": "markdown",
   "id": "3ffa0e31",
   "metadata": {},
   "source": [
    "### Export Monthly Report As Excel File"
   ]
  },
  {
   "cell_type": "code",
   "execution_count": null,
   "id": "70d09952",
   "metadata": {},
   "outputs": [],
   "source": [
    "dn = np.where(df_output.columns.values == 'DocNo')\n",
    "\n",
    "dn_month = [x + '_DocNo' for x in month]\n",
    "\n",
    "df_output.columns.values[dn] = dn_month"
   ]
  },
  {
   "cell_type": "code",
   "execution_count": null,
   "id": "daee14c5",
   "metadata": {
    "scrolled": true
   },
   "outputs": [],
   "source": [
    "df_output = df_output.sort_values(['WISE Facility', 'Accounting_CustomerID', 'CustomerID'])\n",
    "df_output['WISE Facility'] = df_output['WISE Facility'].str.title()\n",
    "df_output['Bill To'] = df_output['Bill To'].str.upper()\n",
    "df_output"
   ]
  },
  {
   "cell_type": "code",
   "execution_count": null,
   "id": "c16bd722",
   "metadata": {},
   "outputs": [],
   "source": [
    "# df_output.to_excel(\"012022_012022 Monthly Report Storage.xlsx\", index = False, header = True)"
   ]
  },
  {
   "cell_type": "code",
   "execution_count": null,
   "id": "5705b541",
   "metadata": {},
   "outputs": [],
   "source": []
  },
  {
   "cell_type": "code",
   "execution_count": null,
   "id": "3521c37c",
   "metadata": {},
   "outputs": [],
   "source": [
    "writer1 = pd.ExcelWriter('2022 Monthly Report Storage.xlsx', engine = 'xlsxwriter')\n",
    "df_count.to_excel(writer1, index = False, header = True, sheet_name = 'Summary')\n",
    "df_output.to_excel(writer1, index = False, header = True, sheet_name = 'Detail 01-03')\n",
    "writer1.save()"
   ]
  },
  {
   "cell_type": "code",
   "execution_count": null,
   "id": "117c21fe",
   "metadata": {},
   "outputs": [],
   "source": []
  },
  {
   "cell_type": "code",
   "execution_count": null,
   "id": "0af566d6",
   "metadata": {},
   "outputs": [],
   "source": []
  },
  {
   "cell_type": "code",
   "execution_count": null,
   "id": "bec39052",
   "metadata": {},
   "outputs": [],
   "source": []
  },
  {
   "cell_type": "code",
   "execution_count": null,
   "id": "3699a233",
   "metadata": {},
   "outputs": [],
   "source": []
  },
  {
   "cell_type": "markdown",
   "id": "55efc4c4",
   "metadata": {},
   "source": [
    "### Storage Cost"
   ]
  },
  {
   "cell_type": "code",
   "execution_count": null,
   "id": "ed22dd7f",
   "metadata": {},
   "outputs": [],
   "source": [
    "df_list = []\n",
    "month = ['Jan', 'Feb', 'Mar']\n",
    "\n",
    "for excel in range(len(excel_list)):\n",
    "    \n",
    "    df_header = excel_list[excel]['Header']\n",
    "    df_line = excel_list[excel]['Line']\n",
    "    df_detail = excel_list[excel]['Detail']\n",
    " \n",
    "\n",
    "    df_select_detail_int = df_detail[['CustomerID', 'DocNo', 'WISE Facility',\n",
    "                                      'Header Billing Period Start', 'Bill Pay Category']]\n",
    "    df_select_detail = df_select_detail_int.loc[df_select_detail_int['Bill Pay Category'] == 'STORAGE INCOME']\n",
    "       \n",
    "    df_select_header = df_header[['Accounting_CustomerID', 'DocNo', 'Bill To']]\n",
    " \n",
    "\n",
    "    df_combine_header_detail = pd.merge(df_select_detail, df_select_header, how = 'left',  on = ['DocNo']) \n",
    "    \n",
    "    df_drop_dup_header = df_combine_header_detail.drop_duplicates()\n",
    "    \n",
    "    df_combine_rename = df_drop_dup_header.rename(columns = {'Header Billing Period Start':'Billing Period Start'})\n",
    "\n",
    "    df_combine_month = df_combine_rename.reindex(columns = ['Accounting_CustomerID', 'CustomerID', 'WISE Facility', \n",
    "                                                            'Bill Pay Category', 'Bill To', 'Billing Period Start',\n",
    "                                                            'DocNo']).sort_values('Accounting_CustomerID')\n",
    "    \n",
    "    \n",
    "    df_select_line_int = df_line[['CustomerID', 'WISE Facility', 'Bill Pay Category', 'Bill To', \n",
    "                                  'DocNo', 'Cost']].sort_values('CustomerID')\n",
    "    df_select_line = df_select_line_int.loc[df_select_line_int['Bill Pay Category'] == 'STORAGE INCOME']\n",
    "    \n",
    "    \n",
    "    \n",
    "    df1 = df_select_line.groupby(['CustomerID', 'WISE Facility', 'Bill To'])['Cost'].sum().reset_index()\n",
    "    \n",
    "    df2 = df_combine_month.merge(df1, how = 'left', on = ['CustomerID', 'WISE Facility', 'Bill To'])\n",
    "    \n",
    "    df3 = df2.drop(['Billing Period Start', 'DocNo'], axis = 1)\n",
    "\n",
    "    df3 = df3.rename(columns = {'Cost': month[excel]})\n",
    "    \n",
    "    print(df3.shape)\n",
    "    \n",
    "    df_list.append(df3)"
   ]
  },
  {
   "cell_type": "code",
   "execution_count": null,
   "id": "bef770e3",
   "metadata": {},
   "outputs": [],
   "source": [
    "df_combine_list = []\n",
    "df_combine_quarter = df_list[0]\n",
    "\n",
    "for df in range(1, len(df_list)):\n",
    "    \n",
    "    df_combine_quarter = pd.merge(df_combine_quarter, df_list[df], how = 'outer', \n",
    "                                  on = ['Accounting_CustomerID', 'CustomerID', 'WISE Facility', 'Bill Pay Category', 'Bill To'])\n",
    "    print(df_combine_quarter.shape)\n",
    "    \n",
    "    df_combine_list.append(df_combine_quarter)\n",
    "    \n",
    "# df_output_init = df_combine_list[-1]\n",
    "df_output_init = df_combine_quarter\n",
    "df_output = df_output_init.drop_duplicates()"
   ]
  },
  {
   "cell_type": "code",
   "execution_count": null,
   "id": "7ea9cc7d",
   "metadata": {},
   "outputs": [],
   "source": [
    "df_output"
   ]
  },
  {
   "cell_type": "code",
   "execution_count": null,
   "id": "5f5fc7fb",
   "metadata": {},
   "outputs": [],
   "source": [
    "df_drop_iv = df_output.copy(deep = True)\n",
    "\n",
    "df_count = df_drop_iv.drop_duplicates()\n",
    "df_count['Count'] = df_count.drop(df_count.columns[0:5], axis = 1).count(axis = 1)\n",
    "df_count = df_count.sort_values(['WISE Facility', 'Accounting_CustomerID', 'CustomerID'])\n",
    "df_count['WISE Facility'] = df_count['WISE Facility'].str.title()\n",
    "df_count['Bill To'] = df_count['Bill To'].str.upper()"
   ]
  },
  {
   "cell_type": "code",
   "execution_count": null,
   "id": "e510fbe7",
   "metadata": {},
   "outputs": [],
   "source": [
    "df_count"
   ]
  },
  {
   "cell_type": "code",
   "execution_count": null,
   "id": "79c9785b",
   "metadata": {},
   "outputs": [],
   "source": [
    "df_count.to_excel(\"2022 Monthly Report Storage Cost.xlsx\", index = False, header = True)"
   ]
  },
  {
   "cell_type": "code",
   "execution_count": null,
   "id": "1c59b1d1",
   "metadata": {},
   "outputs": [],
   "source": []
  }
 ],
 "metadata": {
  "kernelspec": {
   "display_name": "Python 3 (ipykernel)",
   "language": "python",
   "name": "python3"
  },
  "language_info": {
   "codemirror_mode": {
    "name": "ipython",
    "version": 3
   },
   "file_extension": ".py",
   "mimetype": "text/x-python",
   "name": "python",
   "nbconvert_exporter": "python",
   "pygments_lexer": "ipython3",
   "version": "3.9.4"
  }
 },
 "nbformat": 4,
 "nbformat_minor": 5
}
