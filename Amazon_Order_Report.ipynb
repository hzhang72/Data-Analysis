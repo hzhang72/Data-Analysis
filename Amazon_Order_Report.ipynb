{
 "cells": [
  {
   "cell_type": "code",
   "execution_count": null,
   "id": "e0d8de44",
   "metadata": {},
   "outputs": [],
   "source": [
    "import pandas as pd\n",
    "import numpy as np\n",
    "import os"
   ]
  },
  {
   "cell_type": "code",
   "execution_count": null,
   "id": "930a790f",
   "metadata": {},
   "outputs": [],
   "source": [
    "folder = r'C:\\Users\\mazhang\\Documents\\Purchasing\\Amazon\\2022 Weekly Report'\n",
    "files = os.listdir(folder)\n",
    "\n",
    "excel_list = []\n",
    "for file in files:\n",
    "    if file.endswith('.xlsx'):\n",
    "        df = pd.read_excel(os.path.join(folder, file), sheet_name = None)\n",
    "        excel_list.append(df)"
   ]
  },
  {
   "cell_type": "code",
   "execution_count": null,
   "id": "a5fcc13b",
   "metadata": {},
   "outputs": [],
   "source": [
    "df = pd.DataFrame()\n",
    "for excel in range(len(excel_list)):\n",
    "    \n",
    "    df_excel = excel_list[excel]['Sheet1']\n",
    "    print(df_excel.shape)\n",
    "    df = df.append(df_excel, ignore_index = True)"
   ]
  },
  {
   "cell_type": "code",
   "execution_count": null,
   "id": "f1e9ec6a",
   "metadata": {},
   "outputs": [],
   "source": [
    "df = df.sort_values(by = ['Week'])\n",
    "df"
   ]
  },
  {
   "cell_type": "code",
   "execution_count": null,
   "id": "b2da47ad",
   "metadata": {},
   "outputs": [],
   "source": [
    "pd.set_option('display.precision', 0)\n",
    "\n",
    "df1 = df[['Week', 'Facility', 'Cost Center', 'Class', 'Commodity', 'Order Quantity']]\n",
    "df1 = df1.fillna('NA')\n",
    "df1.columns = df1.columns.str.strip()\n",
    "df1"
   ]
  },
  {
   "cell_type": "code",
   "execution_count": null,
   "id": "e06a6be6",
   "metadata": {},
   "outputs": [],
   "source": [
    "df2 = df1.groupby(['Week', 'Facility', 'Cost Center', 'Class', 'Commodity']).agg({'Order Quantity': 'sum'})\n",
    "df2"
   ]
  },
  {
   "cell_type": "code",
   "execution_count": null,
   "id": "51c1d8c6",
   "metadata": {
    "scrolled": false
   },
   "outputs": [],
   "source": [
    "df3 = df2.pivot_table(columns = ['Week'], index = ['Facility', 'Cost Center', 'Class', 'Commodity'], \n",
    "                      values = 'Order Quantity')\n",
    "df3 = df3.fillna(0)\n",
    "df3"
   ]
  },
  {
   "cell_type": "code",
   "execution_count": null,
   "id": "e4355385",
   "metadata": {},
   "outputs": [],
   "source": [
    "week_numbers = [str(x) for x in df3.columns]\n",
    "df3.columns = ['Week ' + x for x in week_numbers]\n",
    "df3"
   ]
  },
  {
   "cell_type": "code",
   "execution_count": null,
   "id": "ca5e79fe",
   "metadata": {
    "scrolled": false
   },
   "outputs": [],
   "source": [
    "df4 = df3.reset_index()\n",
    "df4['Total Quantity'] = df4.sum(axis = 1)\n",
    "df4"
   ]
  },
  {
   "cell_type": "code",
   "execution_count": null,
   "id": "af147abd",
   "metadata": {},
   "outputs": [],
   "source": []
  },
  {
   "cell_type": "code",
   "execution_count": null,
   "id": "7d5c8436",
   "metadata": {},
   "outputs": [],
   "source": []
  },
  {
   "cell_type": "code",
   "execution_count": null,
   "id": "25bf9376",
   "metadata": {},
   "outputs": [],
   "source": [
    "def highlight_mean_greater(s):\n",
    "    \n",
    "    s = s.replace(0, np.NaN)\n",
    "    is_max = s > s.mean()\n",
    "    \n",
    "    return ['background-color: lightcoral' if i else '' for i in is_max]"
   ]
  },
  {
   "cell_type": "code",
   "execution_count": null,
   "id": "e1485b5e",
   "metadata": {},
   "outputs": [],
   "source": [
    "grouped = df4.groupby(df4['Facility'])\n",
    "\n",
    "with pd.ExcelWriter('2022 Amazon Order Weekly Count Report.xlsx') as writer:\n",
    "    \n",
    "    (df4.style\n",
    "     .apply(lambda x: ['background-color: lightseagreen' \n",
    "                          if ((i >= 0 and i < (len(df3.columns) - 1)) and                               \n",
    "                              (x.iloc[i] > 0 and (x.iloc[i+1] > 0 or x.iloc[i-1] > 0)))                           \n",
    "                          else \"\" for i, v in enumerate(x)], axis = 1, subset = list(df3.columns))\n",
    "     .apply(highlight_mean_greater, axis = 1, subset = list(df3.columns))\n",
    "     .to_excel(writer, index = False, header = True, sheet_name = 'Summary'))\n",
    "    \n",
    "    for name in df4['Facility'].unique():\n",
    "        \n",
    "        df = grouped.get_group(name)\n",
    "        \n",
    "        (df.style\n",
    "         \n",
    "         .apply(lambda x: ['background-color: lightseagreen' \n",
    "                          if ((i >= 0 and i < (len(df3.columns) - 1)) and                               \n",
    "                              (x.iloc[i] > 0 and (x.iloc[i+1] > 0 or x.iloc[i-1] > 0)))\n",
    "                           \n",
    "                          else \"\" for i, v in enumerate(x)], axis = 1, subset = list(df3.columns))\n",
    "         \n",
    "         .apply(highlight_mean_greater, axis = 1, subset = list(df3.columns))\n",
    "         \n",
    "         .to_excel(writer, sheet_name = name, index = False))"
   ]
  },
  {
   "cell_type": "code",
   "execution_count": null,
   "id": "7f24a71f",
   "metadata": {},
   "outputs": [],
   "source": []
  }
 ],
 "metadata": {
  "kernelspec": {
   "display_name": "Python 3 (ipykernel)",
   "language": "python",
   "name": "python3"
  },
  "language_info": {
   "codemirror_mode": {
    "name": "ipython",
    "version": 3
   },
   "file_extension": ".py",
   "mimetype": "text/x-python",
   "name": "python",
   "nbconvert_exporter": "python",
   "pygments_lexer": "ipython3",
   "version": "3.9.4"
  }
 },
 "nbformat": 4,
 "nbformat_minor": 5
}
