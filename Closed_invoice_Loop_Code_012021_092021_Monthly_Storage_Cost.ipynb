{
 "cells": [
  {
   "cell_type": "markdown",
   "id": "c8377d64",
   "metadata": {},
   "source": [
    "### Load Packages"
   ]
  },
  {
   "cell_type": "code",
   "execution_count": null,
   "id": "2ee96913",
   "metadata": {},
   "outputs": [],
   "source": [
    "import pandas as pd\n",
    "import numpy as np\n",
    "import os\n",
    "import warnings\n",
    "\n",
    "warnings.simplefilter(\"ignore\")\n",
    "\n",
    "pd.options.mode.chained_assignment = None"
   ]
  },
  {
   "cell_type": "markdown",
   "id": "1fe883c4",
   "metadata": {},
   "source": [
    "### Import Excel Files"
   ]
  },
  {
   "cell_type": "code",
   "execution_count": null,
   "id": "31925fd3",
   "metadata": {},
   "outputs": [],
   "source": [
    "folder = r'C:\\Users\\mazhang\\Documents\\Jupyter Notebook\\2021 Monthly Closed Invoice'\n",
    "files = os.listdir(folder)\n",
    "\n",
    "excel_list = []\n",
    "for file in files:\n",
    "    if file.endswith('.xlsx'):\n",
    "        df = pd.read_excel(os.path.join(folder, file), sheet_name = None)\n",
    "        excel_list.append(df)"
   ]
  },
  {
   "cell_type": "markdown",
   "id": "9301ea85",
   "metadata": {},
   "source": [
    "### Generate Monthly Report with Accounting ID, Facility and  Bill Pay Category = Storage, etc."
   ]
  },
  {
   "cell_type": "code",
   "execution_count": null,
   "id": "81e317dc",
   "metadata": {},
   "outputs": [],
   "source": [
    "df_list = []\n",
    "month = ['Jan', 'Feb', 'Mar', 'Apr', 'May', 'Jun', 'Jul', 'Aug', 'Sep']\n",
    "\n",
    "for excel in range(len(excel_list)):\n",
    "    \n",
    "    df_header = excel_list[excel]['Header']\n",
    "    df_line = excel_list[excel]['Line']\n",
    "    df_detail = excel_list[excel]['Detail']\n",
    " \n",
    "\n",
    "    df_select_detail_int = df_detail[['CustomerID', 'DocNo', 'Facility',\n",
    "                                      'Header Billing Period Start', 'Bill Pay Category']]\n",
    "    df_select_detail = df_select_detail_int.loc[df_select_detail_int['Bill Pay Category'] == 'STORAGE INCOME']\n",
    "       \n",
    "    df_select_header = df_header[['Accounting_CustomerID', 'DocNo', 'Bill To']]\n",
    " \n",
    "\n",
    "    df_combine_header_detail = pd.merge(df_select_detail, df_select_header, how = 'left',  on = ['DocNo']) \n",
    "    \n",
    "    df_drop_dup_header = df_combine_header_detail.drop_duplicates()\n",
    "    \n",
    "    df_combine_rename = df_drop_dup_header.rename(columns = {'Header Billing Period Start':'Billing Period Start'})\n",
    "\n",
    "    df_combine_month = df_combine_rename.reindex(columns = ['Accounting_CustomerID', 'CustomerID', 'Facility', \n",
    "                                                            'Bill Pay Category', 'Bill To', 'Billing Period Start',\n",
    "                                                            'DocNo']).sort_values('Accounting_CustomerID')\n",
    "    \n",
    "    \n",
    "    df_select_line_int = df_line[['CustomerID', 'Facility', 'Bill Pay Category', 'Bill To', \n",
    "                                  'DocNo', 'Cost']].sort_values('CustomerID')\n",
    "    df_select_line = df_select_line_int.loc[df_select_line_int['Bill Pay Category'] == 'STORAGE INCOME']\n",
    "    \n",
    "    \n",
    "    \n",
    "    df1 = df_select_line.groupby(['CustomerID', 'Facility', 'Bill To'])['Cost'].sum().reset_index()\n",
    "    \n",
    "    df2 = df_combine_month.merge(df1, how = 'left', on = ['CustomerID', 'Facility', 'Bill To'])\n",
    "    \n",
    "    df3 = df2.drop(['Billing Period Start', 'DocNo'], axis = 1)\n",
    "\n",
    "    df3 = df3.rename(columns = {'Cost': month[excel]})\n",
    "    \n",
    "    print(df3.shape)\n",
    "    \n",
    "    df_list.append(df3)"
   ]
  },
  {
   "cell_type": "code",
   "execution_count": null,
   "id": "6a7c184b",
   "metadata": {},
   "outputs": [],
   "source": [
    "df_combine_list = []\n",
    "df_combine_quarter = df_list[0]\n",
    "\n",
    "for df in range(1, len(df_list)):\n",
    "    \n",
    "    df_combine_quarter = pd.merge(df_combine_quarter, df_list[df], how = 'outer', \n",
    "                                  on = ['Accounting_CustomerID', 'CustomerID', 'Facility', 'Bill Pay Category', 'Bill To'])\n",
    "    print(df_combine_quarter.shape)\n",
    "    \n",
    "    df_combine_list.append(df_combine_quarter)\n",
    "    \n",
    "df_output_init = df_combine_list[-1]\n",
    "df_output = df_output_init.drop_duplicates().sort_values('Accounting_CustomerID')"
   ]
  },
  {
   "cell_type": "code",
   "execution_count": null,
   "id": "44c75251",
   "metadata": {},
   "outputs": [],
   "source": [
    "df_output"
   ]
  },
  {
   "cell_type": "markdown",
   "id": "f6c4a5a9",
   "metadata": {},
   "source": [
    "### Generate Monthly Report with Billing Count"
   ]
  },
  {
   "cell_type": "code",
   "execution_count": null,
   "id": "930cec57",
   "metadata": {},
   "outputs": [],
   "source": [
    "df_drop_iv = df_output.copy(deep = True)\n",
    "\n",
    "df_count = df_drop_iv.drop_duplicates()\n",
    "df_count['Count'] = df_count.drop(df_count.columns[0:5], axis = 1).count(axis = 1)\n",
    "df_count = df_count.sort_values('Accounting_CustomerID')\n",
    "df_count"
   ]
  },
  {
   "cell_type": "code",
   "execution_count": null,
   "id": "dd439763",
   "metadata": {},
   "outputs": [],
   "source": [
    "# df_count.to_excel(\"012021_092021 Monthly Report Storage Cost.xlsx\", index = False, header = True)"
   ]
  },
  {
   "cell_type": "code",
   "execution_count": null,
   "id": "cf7d1206",
   "metadata": {},
   "outputs": [],
   "source": []
  }
 ],
 "metadata": {
  "kernelspec": {
   "display_name": "Python 3",
   "language": "python",
   "name": "python3"
  },
  "language_info": {
   "codemirror_mode": {
    "name": "ipython",
    "version": 3
   },
   "file_extension": ".py",
   "mimetype": "text/x-python",
   "name": "python",
   "nbconvert_exporter": "python",
   "pygments_lexer": "ipython3",
   "version": "3.8.8"
  }
 },
 "nbformat": 4,
 "nbformat_minor": 5
}
