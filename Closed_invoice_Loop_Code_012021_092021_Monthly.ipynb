{
 "cells": [
  {
   "cell_type": "markdown",
   "id": "c8377d64",
   "metadata": {},
   "source": [
    "### Load Packages"
   ]
  },
  {
   "cell_type": "code",
   "execution_count": 1,
   "id": "2ee96913",
   "metadata": {},
   "outputs": [],
   "source": [
    "import pandas as pd\n",
    "import numpy as np\n",
    "import os\n",
    "\n",
    "pd.options.mode.chained_assignment = None"
   ]
  },
  {
   "cell_type": "markdown",
   "id": "1fe883c4",
   "metadata": {},
   "source": [
    "### Import Excel Files"
   ]
  },
  {
   "cell_type": "code",
   "execution_count": 2,
   "id": "31925fd3",
   "metadata": {},
   "outputs": [
    {
     "name": "stderr",
     "output_type": "stream",
     "text": [
      "C:\\Users\\mazhang\\Anaconda3\\lib\\site-packages\\openpyxl\\styles\\stylesheet.py:221: UserWarning: Workbook contains no default style, apply openpyxl's default\n",
      "  warn(\"Workbook contains no default style, apply openpyxl's default\")\n"
     ]
    }
   ],
   "source": [
    "folder = r'C:\\Users\\mazhang\\Documents\\Jupyter Notebook\\2021 Monthly Closed Invoice'\n",
    "files = os.listdir(folder)\n",
    "\n",
    "excel_list = []\n",
    "for file in files:\n",
    "    if file.endswith('.xlsx'):\n",
    "        df = pd.read_excel(os.path.join(folder, file), sheet_name = None)\n",
    "        excel_list.append(df)"
   ]
  },
  {
   "cell_type": "markdown",
   "id": "9301ea85",
   "metadata": {},
   "source": [
    "### Generate Half-Monthly Report with Accounting ID, Facility and  Bill Pay Category, etc."
   ]
  },
  {
   "cell_type": "code",
   "execution_count": 3,
   "id": "45070c7f",
   "metadata": {
    "scrolled": false
   },
   "outputs": [
    {
     "name": "stdout",
     "output_type": "stream",
     "text": [
      "(337, 7)\n",
      "(315, 7)\n",
      "(343, 7)\n",
      "(379, 7)\n",
      "(395, 7)\n",
      "(418, 7)\n",
      "(408, 7)\n",
      "(379, 7)\n",
      "(411, 7)\n"
     ]
    }
   ],
   "source": [
    "df_list = []\n",
    "\n",
    "for excel in range(len(excel_list)):\n",
    "    \n",
    "    df_header = excel_list[excel]['Header']\n",
    "    df_line = excel_list[excel]['Line']\n",
    "    df_detail = excel_list[excel]['Detail']\n",
    "\n",
    "    df_select_header = df_header[['Accounting_CustomerID', 'CustomerID', 'DocNo', 'Facility', 'Bill To']]\n",
    "    df_select_header['Billing Period Start'] = df_detail['Header Billing Period Start']\n",
    "    df_drop_dup_header = df_select_header.drop_duplicates(subset = ['Accounting_CustomerID', 'DocNo', \n",
    "                                                                    'Facility', 'Bill To'])\n",
    "    \n",
    "    df_select_line = df_line[['CustomerID', 'Facility', 'Bill Pay Category', 'Bill To']]\n",
    "    df_drop_dup_line = df_select_line.drop_duplicates(subset = ['Facility', 'Bill To', 'Bill Pay Category'], \n",
    "                                                      keep = 'last')\n",
    "\n",
    "    df_combine_header_line = pd.merge(df_drop_dup_line, df_drop_dup_header, how = 'left', \n",
    "                                      on = ['Facility', 'Bill To']).T.drop_duplicates().T\n",
    "    df_combine_rename = df_combine_header_line.rename(columns = {\"CustomerID_x\": \"CustomerID\"})\n",
    "    df_combine_half_month = df_combine_rename.reindex(columns = ['Accounting_CustomerID', 'CustomerID', 'DocNo', \n",
    "                                                                 'Facility', 'Bill Pay Category', \n",
    "                                                                 'Bill To', 'Billing Period Start'])\n",
    "    print(df_combine_half_month.shape)\n",
    "    \n",
    "    df_list.append(df_combine_half_month)"
   ]
  },
  {
   "cell_type": "markdown",
   "id": "5238f213",
   "metadata": {},
   "source": [
    "### Generate Quarter Report with Accounting ID, Facility and  Bill Pay Category, etc."
   ]
  },
  {
   "cell_type": "code",
   "execution_count": 4,
   "id": "523b1b90",
   "metadata": {},
   "outputs": [
    {
     "name": "stdout",
     "output_type": "stream",
     "text": [
      "(337, 8)\n",
      "(652, 9)\n",
      "(995, 10)\n",
      "(1374, 11)\n",
      "(1769, 12)\n",
      "(2187, 13)\n",
      "(2595, 14)\n",
      "(2974, 15)\n",
      "(3385, 16)\n",
      "(3385, 15)\n"
     ]
    }
   ],
   "source": [
    "df_combine_list = []\n",
    "df_combine_quarter = df_list[0]\n",
    "\n",
    "for df in range(len(df_list)):\n",
    "    \n",
    "    df_combine_quarter = pd.merge(df_combine_quarter, df_list[df], how = 'outer', \n",
    "                                  on = ['Accounting_CustomerID', 'CustomerID', 'DocNo', \n",
    "                                        'Facility', 'Bill Pay Category', 'Bill To'])\n",
    "    print(df_combine_quarter.shape)\n",
    "    \n",
    "    df_combine_list.append(df_combine_quarter)\n",
    "    \n",
    "df_output_init = df_combine_list[-1]\n",
    "df_output = df_output_init.T.drop_duplicates().T\n",
    "df_output.rename({'Billing Period Start_x':'Billing Period Start', \n",
    "                'Billing Period Start_y':'Billing Period Start'}, axis = 'columns', inplace = True)\n",
    "print(df_output.shape)"
   ]
  },
  {
   "cell_type": "markdown",
   "id": "3ffa0e31",
   "metadata": {},
   "source": [
    "### Export Quarter Report As Excel File"
   ]
  },
  {
   "cell_type": "code",
   "execution_count": 5,
   "id": "a0f7093e",
   "metadata": {},
   "outputs": [],
   "source": [
    "# df_output.to_excel(\"2021 Monthly Report.xlsx\", index = False, header = True)"
   ]
  },
  {
   "cell_type": "code",
   "execution_count": null,
   "id": "8d498111",
   "metadata": {},
   "outputs": [],
   "source": []
  }
 ],
 "metadata": {
  "kernelspec": {
   "display_name": "Python 3",
   "language": "python",
   "name": "python3"
  },
  "language_info": {
   "codemirror_mode": {
    "name": "ipython",
    "version": 3
   },
   "file_extension": ".py",
   "mimetype": "text/x-python",
   "name": "python",
   "nbconvert_exporter": "python",
   "pygments_lexer": "ipython3",
   "version": "3.8.8"
  }
 },
 "nbformat": 4,
 "nbformat_minor": 5
}
