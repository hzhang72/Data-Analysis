{
 "cells": [
  {
   "cell_type": "markdown",
   "id": "32e0f18a",
   "metadata": {},
   "source": [
    "### Load Packages"
   ]
  },
  {
   "cell_type": "code",
   "execution_count": null,
   "id": "4e7ca242",
   "metadata": {},
   "outputs": [],
   "source": [
    "import pandas as pd\n",
    "import numpy as np\n",
    "import os\n",
    "import warnings\n",
    "import re\n",
    "import datetime \n",
    "\n",
    "warnings.simplefilter(\"ignore\")\n",
    "\n",
    "pd.options.mode.chained_assignment = None"
   ]
  },
  {
   "cell_type": "markdown",
   "id": "ed36d4bb",
   "metadata": {},
   "source": [
    "### Import Excel Files"
   ]
  },
  {
   "cell_type": "code",
   "execution_count": null,
   "id": "725ed938",
   "metadata": {},
   "outputs": [],
   "source": [
    "folder = r'C:\\Users\\mazhang\\Documents\\Jupyter Notebook\\Semi-Monthly Closed Invoice\\2022 Semi-Monthly Closed Invoice'\n",
    "files = os.listdir(folder)\n",
    "\n",
    "excel_list = []\n",
    "for file in files:\n",
    "    if file.endswith('.xlsx'):\n",
    "        df = pd.read_excel(os.path.join(folder, file), sheet_name = None)\n",
    "        excel_list.append(df)"
   ]
  },
  {
   "cell_type": "markdown",
   "id": "2713666d",
   "metadata": {},
   "source": [
    "### ACCESSORIAL Generate Semi-Monthly Report with Accounting ID, Facility and  Bill Pay Category, etc."
   ]
  },
  {
   "cell_type": "code",
   "execution_count": null,
   "id": "40b72d49",
   "metadata": {
    "scrolled": true
   },
   "outputs": [],
   "source": [
    "df_list = []\n",
    "\n",
    "for excel in range(len(excel_list)):\n",
    "    \n",
    "    df_header = excel_list[excel]['Header']\n",
    "    df_detail = excel_list[excel]['Detail']\n",
    " \n",
    "\n",
    "    df_select_detail = df_detail[['CustomerID', 'DocNo', 'WISE Facility', 'Header Billing Period Start', 'Bill Pay Category']]\n",
    "        \n",
    "    df_select_detail = df_select_detail.loc[df_select_detail['Bill Pay Category'] == 'ACCESSORIAL']\n",
    "        \n",
    "    \n",
    "    df_select_header = df_header[['Accounting_CustomerID', 'DocNo', 'Bill To']]\n",
    "    \n",
    "    df_combine_header_detail = pd.merge(df_select_detail, df_select_header, how = 'left',  on = ['DocNo']) \n",
    "    \n",
    "    df_drop_dup_header = df_combine_header_detail.drop_duplicates()\n",
    "    \n",
    "    df_combine_rename = df_drop_dup_header.rename(columns = {'Header Billing Period Start':'Billing Period Start'})\n",
    "\n",
    "    df_combine_month = df_combine_rename.reindex(columns = ['Accounting_CustomerID', 'CustomerID', 'WISE Facility', \n",
    "                                                            'Bill Pay Category', 'Bill To', \n",
    "                                                            'Billing Period Start', 'DocNo'])\n",
    "    \n",
    "    \n",
    "    print(df_combine_month.shape)\n",
    "    \n",
    "    df_list.append(df_combine_month)"
   ]
  },
  {
   "cell_type": "code",
   "execution_count": null,
   "id": "14c54298",
   "metadata": {},
   "outputs": [],
   "source": [
    "df_list[len(df_list) - 1].sort_values('Accounting_CustomerID')"
   ]
  },
  {
   "cell_type": "code",
   "execution_count": null,
   "id": "41754f13",
   "metadata": {
    "scrolled": true
   },
   "outputs": [],
   "source": [
    "df_combine_list = []\n",
    "df_combine_quarter = df_list[0]\n",
    "\n",
    "for df in range(1, len(df_list)):\n",
    "    \n",
    "    df_combine_quarter = pd.merge(df_combine_quarter, df_list[df], how = 'outer', \n",
    "                                  on = ['Accounting_CustomerID', 'CustomerID', 'WISE Facility', 'Bill Pay Category', 'Bill To'])\n",
    "    print(df_combine_quarter.shape)\n",
    "    \n",
    "    df_combine_list.append(df_combine_quarter)\n",
    "    \n",
    "df_output_init = df_combine_list[-1]\n",
    "df_output = df_output_init.drop_duplicates()\n",
    "\n",
    "df_output.columns = df_output.columns.str.replace('_x', '')\n",
    "df_output.columns = df_output.columns.str.replace('_y', '')"
   ]
  },
  {
   "cell_type": "code",
   "execution_count": null,
   "id": "3335cbc3",
   "metadata": {},
   "outputs": [],
   "source": [
    "df_output"
   ]
  },
  {
   "cell_type": "markdown",
   "id": "4e10dadb",
   "metadata": {},
   "source": [
    "### Generate Semi-Monthly Report with Billing Count and without Invoice Number"
   ]
  },
  {
   "cell_type": "code",
   "execution_count": null,
   "id": "cfc246b2",
   "metadata": {},
   "outputs": [],
   "source": [
    "df_drop_iv = df_output.copy(deep = True)\n",
    "df_drop_iv.drop('DocNo', inplace = True, axis = 1)\n",
    "\n",
    "df_count = df_drop_iv.drop_duplicates()\n",
    "df_count['Count'] = df_count.drop(df_count.columns[0:5], axis = 1).nunique(axis = 1)\n",
    "df_count"
   ]
  },
  {
   "cell_type": "code",
   "execution_count": null,
   "id": "8cbbfa8a",
   "metadata": {},
   "outputs": [],
   "source": [
    "df_count.sort_values(['Count'])"
   ]
  },
  {
   "cell_type": "code",
   "execution_count": null,
   "id": "280e291f",
   "metadata": {},
   "outputs": [],
   "source": [
    "# month = np.array(['Jan', 'Feb', 'Mar', 'Apr', 'May', 'Jun', 'Jul', 'Aug', 'Sep', 'Oct', 'Nov', 'Dec'])\n",
    "\n",
    "month = np.array(['Mar'])\n",
    "semi_month = np.array([])\n",
    "for m in month:\n",
    "    semi_month = np.append(semi_month, m + '_Mid')\n",
    "    semi_month = np.append(semi_month, m + '_End')\n",
    "\n",
    "bp = np.where(df_count.columns.values == 'Billing Period Start')\n",
    "\n",
    "df_count.columns.values[bp] = semi_month\n",
    "\n",
    "df_count"
   ]
  },
  {
   "cell_type": "code",
   "execution_count": null,
   "id": "aefd3239",
   "metadata": {},
   "outputs": [],
   "source": [
    "df_count = df_count.sort_values(['WISE Facility', 'Accounting_CustomerID', 'CustomerID'])\n",
    "df_count['WISE Facility'] = df_count['WISE Facility'].str.title()\n",
    "df_count['Bill To'] = df_count['Bill To'].str.upper()\n",
    "df_count = df_count.drop_duplicates(['WISE Facility', 'Accounting_CustomerID', 'CustomerID'])\n",
    "df_count"
   ]
  },
  {
   "cell_type": "code",
   "execution_count": null,
   "id": "f4d31be2",
   "metadata": {},
   "outputs": [],
   "source": [
    "df_count.to_excel(\"03_2022 Semi-Monthly Report Accessorial Count.xlsx\", index = False, header = True)"
   ]
  },
  {
   "cell_type": "markdown",
   "id": "747832b7",
   "metadata": {},
   "source": [
    "### Export Semi-Monthly Report As Excel File"
   ]
  },
  {
   "cell_type": "code",
   "execution_count": null,
   "id": "4234532f",
   "metadata": {},
   "outputs": [],
   "source": [
    "# month = np.array(['Jan', 'Feb'])\n",
    "\n",
    "# semi_month = np.array([])\n",
    "# for m in month:\n",
    "#     semi_month = np.append(semi_month, m + '_Mid')\n",
    "#     semi_month = np.append(semi_month, m + '_End')\n",
    "\n",
    "bp1 = np.where(df_output.columns.values == 'Billing Period Start')\n",
    "dn1 = np.where(df_output.columns.values == 'DocNo')\n",
    "\n",
    "dn_month = [x + '_DocNo' for x in semi_month]\n",
    "\n",
    "df_output.columns.values[bp1] = semi_month\n",
    "df_output.columns.values[dn1] = dn_month"
   ]
  },
  {
   "cell_type": "code",
   "execution_count": null,
   "id": "7d286b76",
   "metadata": {
    "scrolled": true
   },
   "outputs": [],
   "source": [
    "df_output"
   ]
  },
  {
   "cell_type": "code",
   "execution_count": null,
   "id": "a006ee17",
   "metadata": {},
   "outputs": [],
   "source": [
    "df_output.groupby(['Accounting_CustomerID']).count().sort_values(['CustomerID'], ascending=False).head(12)"
   ]
  },
  {
   "cell_type": "code",
   "execution_count": null,
   "id": "b25f5170",
   "metadata": {},
   "outputs": [],
   "source": [
    "df_output = df_output.sort_values(['WISE Facility', 'Accounting_CustomerID', 'CustomerID'])\n",
    "df_output['WISE Facility'] = df_output['WISE Facility'].str.title()\n",
    "df_output['Bill To'] = df_output['Bill To'].str.upper()\n",
    "df_output"
   ]
  },
  {
   "cell_type": "code",
   "execution_count": null,
   "id": "3401c68c",
   "metadata": {
    "scrolled": true
   },
   "outputs": [],
   "source": [
    "df_output.to_excel(\"03_2022 Semi-Monthly Report Accessorial.xlsx\", index = False, header = True)"
   ]
  },
  {
   "cell_type": "code",
   "execution_count": null,
   "id": "17dcf467",
   "metadata": {},
   "outputs": [],
   "source": []
  },
  {
   "cell_type": "code",
   "execution_count": null,
   "id": "5c4ca10a",
   "metadata": {},
   "outputs": [],
   "source": []
  },
  {
   "cell_type": "code",
   "execution_count": null,
   "id": "45d95835",
   "metadata": {},
   "outputs": [],
   "source": [
    "# writer = pd.ExcelWriter('2022 Semi-Monthly Report Accessorial.xlsx', engine = 'xlsxwriter')"
   ]
  },
  {
   "cell_type": "code",
   "execution_count": null,
   "id": "86e1c0f8",
   "metadata": {},
   "outputs": [],
   "source": [
    "# df_count.to_excel(writer, index = False, header = True, sheet_name = 'Summary')"
   ]
  },
  {
   "cell_type": "code",
   "execution_count": null,
   "id": "3fd0c0d4",
   "metadata": {},
   "outputs": [],
   "source": [
    "# df_output.to_excel(writer, index = False, header = True, sheet_name = 'Detail 01-02')"
   ]
  },
  {
   "cell_type": "code",
   "execution_count": null,
   "id": "93fa73df",
   "metadata": {},
   "outputs": [],
   "source": [
    "# writer.save()"
   ]
  },
  {
   "cell_type": "code",
   "execution_count": null,
   "id": "2057b6d3",
   "metadata": {},
   "outputs": [],
   "source": []
  },
  {
   "cell_type": "markdown",
   "id": "bf45cf20",
   "metadata": {},
   "source": [
    "# MOVE FILES TO OUTPUT!"
   ]
  },
  {
   "cell_type": "code",
   "execution_count": null,
   "id": "a4403ad0",
   "metadata": {},
   "outputs": [],
   "source": []
  },
  {
   "cell_type": "code",
   "execution_count": null,
   "id": "33bd2db8",
   "metadata": {},
   "outputs": [],
   "source": []
  },
  {
   "cell_type": "code",
   "execution_count": null,
   "id": "416d874f",
   "metadata": {},
   "outputs": [],
   "source": []
  },
  {
   "cell_type": "markdown",
   "id": "adefc5ea",
   "metadata": {},
   "source": [
    "### HANDLING Generate Semi-Monthly Report with Accounting ID, Facility and  Bill Pay Category, etc."
   ]
  },
  {
   "cell_type": "code",
   "execution_count": null,
   "id": "91b60df5",
   "metadata": {},
   "outputs": [],
   "source": [
    "df_list = []\n",
    "\n",
    "for excel in range(len(excel_list)):\n",
    "    \n",
    "    df_header = excel_list[excel]['Header']\n",
    "    df_detail = excel_list[excel]['Detail']\n",
    " \n",
    "\n",
    "    df_select_detail = df_detail[['CustomerID', 'DocNo', 'WISE Facility', 'Header Billing Period Start', 'Bill Pay Category']]\n",
    "    \n",
    "    \n",
    "    df_select_detail = df_select_detail.loc[df_select_detail['Bill Pay Category'] == 'HANDLING']\n",
    "    \n",
    "    \n",
    "    df_select_header = df_header[['Accounting_CustomerID', 'DocNo', 'Bill To']]\n",
    "    \n",
    "\n",
    "\n",
    "    df_combine_header_detail = pd.merge(df_select_detail, df_select_header, how = 'left',  on = ['DocNo']) \n",
    "    \n",
    "    df_drop_dup_header = df_combine_header_detail.drop_duplicates()\n",
    "    \n",
    "    df_combine_rename = df_drop_dup_header.rename(columns = {'Header Billing Period Start':'Billing Period Start'})\n",
    "\n",
    "    df_combine_month = df_combine_rename.reindex(columns = ['Accounting_CustomerID', 'CustomerID', 'WISE Facility', \n",
    "                                                            'Bill Pay Category', 'Bill To', \n",
    "                                                            'Billing Period Start', 'DocNo'])\n",
    "    \n",
    "    print(df_combine_month.shape)\n",
    "    \n",
    "    df_list.append(df_combine_month)"
   ]
  },
  {
   "cell_type": "code",
   "execution_count": null,
   "id": "7fe5e29e",
   "metadata": {
    "scrolled": true
   },
   "outputs": [],
   "source": [
    "df_combine_list = []\n",
    "df_combine_quarter = df_list[0]\n",
    "\n",
    "for df in range(1, len(df_list)):\n",
    "    \n",
    "    df_combine_quarter = pd.merge(df_combine_quarter, df_list[df], how = 'outer', \n",
    "                                  on = ['Accounting_CustomerID', 'CustomerID', 'WISE Facility', 'Bill Pay Category', 'Bill To'])\n",
    "    print(df_combine_quarter.shape)\n",
    "    \n",
    "    df_combine_list.append(df_combine_quarter)\n",
    "    \n",
    "df_output_init = df_combine_list[-1]\n",
    "df_output = df_output_init.drop_duplicates()\n",
    "\n",
    "df_output.columns = df_output.columns.str.replace('_x', '')\n",
    "df_output.columns = df_output.columns.str.replace('_y', '')"
   ]
  },
  {
   "cell_type": "markdown",
   "id": "2253e97f",
   "metadata": {},
   "source": [
    "### Generate Semi-Monthly Report with Billing Count and without Invoice Number"
   ]
  },
  {
   "cell_type": "code",
   "execution_count": null,
   "id": "b5a9349c",
   "metadata": {},
   "outputs": [],
   "source": [
    "df_drop_iv = df_output.copy(deep = True)\n",
    "df_drop_iv.drop('DocNo', inplace = True, axis = 1)\n",
    "\n",
    "df_count = df_drop_iv.drop_duplicates()\n",
    "df_count['Count'] = df_count.drop(df_count.columns[0:5], axis = 1).nunique(axis = 1)\n",
    "df_count"
   ]
  },
  {
   "cell_type": "code",
   "execution_count": null,
   "id": "bd46fdb9",
   "metadata": {},
   "outputs": [],
   "source": [
    "month = np.array(['Mar'])\n",
    "semi_month = np.array([])\n",
    "for m in month:\n",
    "    semi_month = np.append(semi_month, m + '_Mid')\n",
    "    semi_month = np.append(semi_month, m + '_End')\n",
    "\n",
    "bp = np.where(df_count.columns.values == 'Billing Period Start')\n",
    "\n",
    "df_count.columns.values[bp] = semi_month\n",
    "\n",
    "df_count"
   ]
  },
  {
   "cell_type": "code",
   "execution_count": null,
   "id": "fc348bc9",
   "metadata": {},
   "outputs": [],
   "source": [
    "df_count = df_count.sort_values(['WISE Facility', 'Accounting_CustomerID', 'CustomerID'])\n",
    "df_count['WISE Facility'] = df_count['WISE Facility'].str.title()\n",
    "df_count['Bill To'] = df_count['Bill To'].str.upper()\n",
    "df_count = df_count.drop_duplicates(['WISE Facility', 'Accounting_CustomerID', 'CustomerID'])\n",
    "df_count"
   ]
  },
  {
   "cell_type": "code",
   "execution_count": null,
   "id": "a1d54b79",
   "metadata": {},
   "outputs": [],
   "source": [
    "df_count.to_excel(\"03_2022 Semi-Monthly Report Handling Count.xlsx\", index = False, header = True)"
   ]
  },
  {
   "cell_type": "markdown",
   "id": "24505736",
   "metadata": {},
   "source": [
    "### Export Semi-Monthly Report As Excel File"
   ]
  },
  {
   "cell_type": "code",
   "execution_count": null,
   "id": "15a3ff6c",
   "metadata": {},
   "outputs": [],
   "source": [
    "# month = np.array(['Jan'])\n",
    "\n",
    "# semi_month = np.array([])\n",
    "# for m in month:\n",
    "#     semi_month = np.append(semi_month, m + '_Mid')\n",
    "#     semi_month = np.append(semi_month, m + '_End')\n",
    "\n",
    "bp1 = np.where(df_output.columns.values == 'Billing Period Start')\n",
    "dn1 = np.where(df_output.columns.values == 'DocNo')\n",
    "\n",
    "dn_month = [x + '_DocNo' for x in semi_month]\n",
    "\n",
    "df_output.columns.values[bp1] = semi_month\n",
    "df_output.columns.values[dn1] = dn_month"
   ]
  },
  {
   "cell_type": "code",
   "execution_count": null,
   "id": "fefbe996",
   "metadata": {},
   "outputs": [],
   "source": [
    "df_output.groupby(['Accounting_CustomerID']).count().sort_values(['CustomerID'], ascending=False)\n",
    "df_output"
   ]
  },
  {
   "cell_type": "code",
   "execution_count": null,
   "id": "408e87b9",
   "metadata": {},
   "outputs": [],
   "source": [
    "df_output = df_output.sort_values(['WISE Facility', 'Accounting_CustomerID', 'CustomerID'])\n",
    "df_output['WISE Facility'] = df_output['WISE Facility'].str.title()\n",
    "df_output['Bill To'] = df_output['Bill To'].str.upper()\n",
    "df_output"
   ]
  },
  {
   "cell_type": "code",
   "execution_count": null,
   "id": "82ce3f6d",
   "metadata": {
    "scrolled": true
   },
   "outputs": [],
   "source": [
    "df_output.to_excel(\"03_2022 Semi-Monthly Report Handling.xlsx\", index = False, header = True)"
   ]
  },
  {
   "cell_type": "code",
   "execution_count": null,
   "id": "fe51f628",
   "metadata": {},
   "outputs": [],
   "source": [
    "# writer1 = pd.ExcelWriter('2022 Semi-Monthly Report Handling.xlsx', engine = 'xlsxwriter')\n",
    "# df_count.to_excel(writer1, index = False, header = True, sheet_name = 'Summary')\n",
    "# df_output.to_excel(writer1, index = False, header = True, sheet_name = 'Detail 01-02')\n",
    "# writer1.save()"
   ]
  },
  {
   "cell_type": "markdown",
   "id": "c0add0cd",
   "metadata": {},
   "source": [
    "# MOVE FILES TO OUTPUT!"
   ]
  },
  {
   "cell_type": "code",
   "execution_count": null,
   "id": "4a2f5481",
   "metadata": {},
   "outputs": [],
   "source": []
  },
  {
   "cell_type": "code",
   "execution_count": null,
   "id": "f21add56",
   "metadata": {},
   "outputs": [],
   "source": []
  },
  {
   "cell_type": "code",
   "execution_count": null,
   "id": "32a8ea89",
   "metadata": {},
   "outputs": [],
   "source": []
  },
  {
   "cell_type": "markdown",
   "id": "c2baeb6f",
   "metadata": {},
   "source": [
    "### Others Generate Semi-Monthly Report with Accounting ID, Facility and  Bill Pay Category, etc."
   ]
  },
  {
   "cell_type": "code",
   "execution_count": null,
   "id": "3a0bfaa0",
   "metadata": {
    "scrolled": false
   },
   "outputs": [],
   "source": [
    "df_list = []\n",
    "\n",
    "for excel in range(len(excel_list)):\n",
    "    \n",
    "    df_header = excel_list[excel]['Header']\n",
    "    df_detail = excel_list[excel]['Detail']\n",
    " \n",
    "\n",
    "    df_select_detail = df_detail[['CustomerID', 'DocNo', 'WISE Facility', 'Header Billing Period Start', 'Bill Pay Category']]\n",
    "        \n",
    "        \n",
    "    df_select_detail = df_select_detail.loc[df_select_detail['Bill Pay Category'] != 'STORAGE INCOME']\n",
    "    \n",
    "    df_select_detail['Bill Pay Category'] = np.where((df_select_detail['Bill Pay Category'] != 'HANDLING') & \n",
    "                                                     (df_select_detail['Bill Pay Category'] != 'ACCESSORIAL'), \n",
    "                                           'OTHERS', df_select_detail['Bill Pay Category'])\n",
    "    \n",
    "    df_select_detail = df_select_detail.loc[df_select_detail['Bill Pay Category'] == 'OTHERS']\n",
    "        \n",
    " \n",
    "\n",
    "    df_select_header = df_header[['Accounting_CustomerID', 'DocNo', 'Bill To']]\n",
    "    \n",
    " \n",
    "\n",
    "    df_combine_header_detail = pd.merge(df_select_detail, df_select_header, how = 'left',  on = ['DocNo']) \n",
    "    \n",
    "    df_drop_dup_header = df_combine_header_detail.drop_duplicates()\n",
    "    \n",
    "    df_combine_rename = df_drop_dup_header.rename(columns = {'Header Billing Period Start':'Billing Period Start'})\n",
    "\n",
    "    df_combine_month = df_combine_rename.reindex(columns = ['Accounting_CustomerID', 'CustomerID', 'WISE Facility', \n",
    "                                                            'Bill Pay Category', 'Bill To', \n",
    "                                                            'Billing Period Start', 'DocNo'])\n",
    "    \n",
    "    print(df_combine_month.shape)\n",
    "    \n",
    "    df_list.append(df_combine_month)"
   ]
  },
  {
   "cell_type": "code",
   "execution_count": null,
   "id": "6a299251",
   "metadata": {},
   "outputs": [],
   "source": [
    "df_combine_list = []\n",
    "df_combine_quarter = df_list[0]\n",
    "\n",
    "for df in range(1, len(df_list)):\n",
    "    \n",
    "    df_combine_quarter = pd.merge(df_combine_quarter, df_list[df], how = 'outer', \n",
    "                                  on = ['Accounting_CustomerID', 'CustomerID', 'WISE Facility', 'Bill Pay Category', 'Bill To'])\n",
    "    print(df_combine_quarter.shape)\n",
    "    \n",
    "    df_combine_list.append(df_combine_quarter)\n",
    "    \n",
    "df_output_init = df_combine_list[-1]\n",
    "df_output = df_output_init.drop_duplicates()\n",
    "\n",
    "df_output.columns = df_output.columns.str.replace('_x', '')\n",
    "df_output.columns = df_output.columns.str.replace('_y', '')"
   ]
  },
  {
   "cell_type": "markdown",
   "id": "6aa9c7fd",
   "metadata": {},
   "source": [
    "### Generate Semi-Monthly Report with Billing Count and without Invoice Number"
   ]
  },
  {
   "cell_type": "code",
   "execution_count": null,
   "id": "1bf981b8",
   "metadata": {
    "scrolled": true
   },
   "outputs": [],
   "source": [
    "df_drop_iv = df_output.copy(deep = True)\n",
    "df_drop_iv.drop('DocNo', inplace = True, axis = 1)\n",
    "\n",
    "df_count = df_drop_iv.drop_duplicates()\n",
    "df_count['Count'] = df_count.drop(df_count.columns[0:5], axis = 1).nunique(axis = 1)\n",
    "df_count"
   ]
  },
  {
   "cell_type": "code",
   "execution_count": null,
   "id": "21a5a193",
   "metadata": {},
   "outputs": [],
   "source": [
    "month = np.array(['Mar'])\n",
    "semi_month = np.array([])\n",
    "for m in month:\n",
    "    semi_month = np.append(semi_month, m + '_Mid')\n",
    "    semi_month = np.append(semi_month, m + '_End')\n",
    "\n",
    "bp = np.where(df_count.columns.values == 'Billing Period Start')\n",
    "\n",
    "df_count.columns.values[bp] = semi_month\n",
    "\n",
    "df_count"
   ]
  },
  {
   "cell_type": "code",
   "execution_count": null,
   "id": "6279a90b",
   "metadata": {},
   "outputs": [],
   "source": [
    "df_count = df_count.sort_values(['WISE Facility', 'Accounting_CustomerID', 'CustomerID'])\n",
    "df_count['WISE Facility'] = df_count['WISE Facility'].str.title()\n",
    "df_count['Bill To'] = df_count['Bill To'].str.upper()\n",
    "df_count = df_count.drop_duplicates(['WISE Facility', 'Accounting_CustomerID', 'CustomerID'])\n",
    "df_count"
   ]
  },
  {
   "cell_type": "code",
   "execution_count": null,
   "id": "32d49bf0",
   "metadata": {},
   "outputs": [],
   "source": [
    "df_count.to_excel(\"03_2022 Semi-Monthly Report Others Count.xlsx\", index = False, header = True)"
   ]
  },
  {
   "cell_type": "markdown",
   "id": "defc35a0",
   "metadata": {},
   "source": [
    "### Export Semi-Monthly Report As Excel File"
   ]
  },
  {
   "cell_type": "code",
   "execution_count": null,
   "id": "ef4b6c7a",
   "metadata": {},
   "outputs": [],
   "source": [
    "# month = np.array(['Jan'])\n",
    "\n",
    "# semi_month = np.array([])\n",
    "# for m in month:\n",
    "#     semi_month = np.append(semi_month, m + '_Mid')\n",
    "#     semi_month = np.append(semi_month, m + '_End')\n",
    "\n",
    "bp1 = np.where(df_output.columns.values == 'Billing Period Start')\n",
    "dn1 = np.where(df_output.columns.values == 'DocNo')\n",
    "\n",
    "dn_month = [x + '_DocNo' for x in semi_month]\n",
    "\n",
    "df_output.columns.values[bp1] = semi_month\n",
    "df_output.columns.values[dn1] = dn_month"
   ]
  },
  {
   "cell_type": "code",
   "execution_count": null,
   "id": "f4111113",
   "metadata": {
    "scrolled": true
   },
   "outputs": [],
   "source": [
    "df_output.groupby(['Accounting_CustomerID']).count().sort_values(['CustomerID'], ascending=False)\n",
    "df_output"
   ]
  },
  {
   "cell_type": "code",
   "execution_count": null,
   "id": "6b6040cc",
   "metadata": {},
   "outputs": [],
   "source": [
    "df_output = df_output.sort_values(['WISE Facility', 'Accounting_CustomerID', 'CustomerID'])\n",
    "df_output['WISE Facility'] = df_output['WISE Facility'].str.title()\n",
    "df_output['Bill To'] = df_output['Bill To'].str.upper()\n",
    "df_output"
   ]
  },
  {
   "cell_type": "code",
   "execution_count": null,
   "id": "6797dcc3",
   "metadata": {
    "scrolled": true
   },
   "outputs": [],
   "source": [
    "df_output.to_excel(\"03_2022 Semi-Monthly Report Others.xlsx\", index = False, header = True)"
   ]
  },
  {
   "cell_type": "code",
   "execution_count": null,
   "id": "bd2bf776",
   "metadata": {},
   "outputs": [],
   "source": [
    "# bp = np.where(df_count.columns.values == 'Billing Period Start')\n",
    "# df_count.columns.values[bp] = semi_month"
   ]
  },
  {
   "cell_type": "code",
   "execution_count": null,
   "id": "a215592d",
   "metadata": {},
   "outputs": [],
   "source": []
  },
  {
   "cell_type": "code",
   "execution_count": null,
   "id": "25a7b20f",
   "metadata": {},
   "outputs": [],
   "source": [
    "# writer2 = pd.ExcelWriter('2022 Semi-Monthly Report Others.xlsx', engine = 'xlsxwriter')\n",
    "# df_count.to_excel(writer2, index = False, header = True, sheet_name = 'Summary')\n",
    "# df_output.to_excel(writer2, index = False, header = True, sheet_name = 'Detail 01-02')\n",
    "# writer2.save()"
   ]
  },
  {
   "cell_type": "markdown",
   "id": "97095a46",
   "metadata": {},
   "source": [
    "# MOVE FILES TO OUTPUT!"
   ]
  },
  {
   "cell_type": "code",
   "execution_count": null,
   "id": "3740f99b",
   "metadata": {},
   "outputs": [],
   "source": []
  },
  {
   "cell_type": "code",
   "execution_count": null,
   "id": "7f5e9193",
   "metadata": {},
   "outputs": [],
   "source": []
  },
  {
   "cell_type": "code",
   "execution_count": null,
   "id": "f75e9849",
   "metadata": {},
   "outputs": [],
   "source": []
  },
  {
   "cell_type": "markdown",
   "id": "4211c9e2",
   "metadata": {},
   "source": [
    "### Get Accessorial Items"
   ]
  },
  {
   "cell_type": "code",
   "execution_count": null,
   "id": "788148cd",
   "metadata": {},
   "outputs": [],
   "source": [
    "df_list = []\n",
    "\n",
    "df_combine = pd.DataFrame()\n",
    "\n",
    "month = ['Mar', 'Mar']\n",
    "\n",
    "for excel in range(len(excel_list)):\n",
    "    \n",
    "    df_header = excel_list[excel]['Header']\n",
    "    df_detail = excel_list[excel]['Detail']\n",
    " \n",
    "\n",
    "    df_select_detail = df_detail[['CustomerID', 'DocNo', 'WISE Facility', 'Header Billing Period Start', 'Bill Pay Category',\n",
    "                                 'BillingCode', 'Qty', 'Cost']]\n",
    "    \n",
    "    df_select_detail = df_select_detail.loc[df_select_detail['Bill Pay Category'] == 'ACCESSORIAL']\n",
    "    \n",
    "    \n",
    "    df_select_detail['BillingCode'] = df_select_detail['BillingCode'].str.lower()\n",
    "    \n",
    "    df_select_detail['Item'] = np.nan\n",
    "    \n",
    "     \n",
    "    df_select_detail.loc[df_select_detail['BillingCode'].str.contains(r'pallet[^4]|pallet\\s[^4]', \n",
    "                                                                      regex=True, na=False), 'Item'] = 'Customized Size Pallet'\n",
    "    \n",
    "    df_select_detail.loc[df_select_detail['BillingCode'].str.contains('chep', na=False), 'Item'] = 'CHEP Pallet'\n",
    "    df_select_detail.loc[df_select_detail['BillingCode'].str.contains('peco', na=False), 'Item'] = 'PECO Pallet'   \n",
    "    df_select_detail.loc[df_select_detail['BillingCode'].str.contains('48x40', na=False), 'Item'] = 'Grade B Pallet'\n",
    "    \n",
    "    df_select_detail.loc[df_select_detail['BillingCode'].str.contains('air bag', na=False), 'Item'] = 'Air Bag'\n",
    "    df_select_detail.loc[df_select_detail['BillingCode'].str.contains('brace', na=False), 'Item'] = 'Block And Brace'\n",
    "    df_select_detail.loc[df_select_detail['BillingCode'].str.contains('bol', na=False), 'Item'] = 'BOL'\n",
    "    df_select_detail.loc[df_select_detail['BillingCode'].str.contains('cancel', na=False), 'Item'] = 'Cancellation'\n",
    "        \n",
    "    df_select_detail.loc[df_select_detail['BillingCode'].str.contains('load bar', na=False), 'Item'] = 'Load Bar'\n",
    "    df_select_detail.loc[df_select_detail['BillingCode'].str.contains('appointment', na=False), 'Item'] = 'Missed Appointment'\n",
    "    \n",
    "    df_select_detail.loc[df_select_detail['BillingCode'].str.contains('placard', na=False), 'Item'] = 'Placard'\n",
    "    df_select_detail.loc[df_select_detail['BillingCode'].str.contains('strap', na=False), 'Item'] = 'Plastic Strap'\n",
    "    df_select_detail.loc[df_select_detail['BillingCode'].str.contains('rush', na=False), 'Item'] = 'Rush Order'\n",
    "    df_select_detail.loc[df_select_detail['BillingCode'].str.contains('serial number', na=False), 'Item'] = 'Serial Number Tracking' \n",
    "    df_select_detail.loc[df_select_detail['BillingCode'].str.contains('sheet', na=False), 'Item'] = 'Slip Sheet'\n",
    "    df_select_detail.loc[df_select_detail['BillingCode'].str.contains('wrap', na=False), 'Item'] = 'Stretch Wrap'\n",
    "\n",
    "    df_select_detail.loc[df_select_detail['BillingCode'].str.contains('box', na=False), 'Item'] = 'Brown Box'   \n",
    "    df_select_detail.loc[df_select_detail['BillingCode'].str.contains('label', na=False), 'Item'] = 'Label'\n",
    "    df_select_detail.loc[df_select_detail['BillingCode'].str.contains('labor', na=False), 'Item'] = 'Labor'  \n",
    "    df_select_detail.loc[df_select_detail['BillingCode'].str.contains('palletizing and', na=False), \n",
    "                         'Item'] = 'Palletizing And Wrapping'\n",
    "    \n",
    "    df_select_detail.loc[df_select_detail['BillingCode'].str.contains(r'(?=.*document)', \n",
    "                                                                     regex=True, na=False), 'Item'] = 'Picture/Photo/Document'\n",
    "    df_select_detail.loc[df_select_detail['BillingCode'].str.contains(r'(?=.*photo)', \n",
    "                                                                     regex=True, na=False), 'Item'] = 'Picture/Photo/Document'\n",
    "    df_select_detail.loc[df_select_detail['BillingCode'].str.contains(r'(?=.*picture)', \n",
    "                                                                     regex=True, na=False), 'Item'] = 'Picture/Photo/Document'\n",
    "    \n",
    "    df_select_detail.loc[df_select_detail['BillingCode'].str.contains('grade a', na=False), 'Item'] = 'Grade A Pallet'\n",
    "    df_select_detail.loc[df_select_detail['BillingCode'].str.contains('grade b', na=False), 'Item'] = 'Grade B Pallet'\n",
    "    df_select_detail.loc[df_select_detail['BillingCode'].str.contains('corner', na=False), 'Item'] = 'Corner Board'\n",
    "        \n",
    "            \n",
    "    df_select_detail['Item'] = df_select_detail['Item'].fillna('Others')\n",
    "    \n",
    "    \n",
    "    df_sum_detail = df_select_detail.groupby(['CustomerID', 'DocNo', 'WISE Facility', \n",
    "                                                'Header Billing Period Start', 'Bill Pay Category', \n",
    "                                                'BillingCode', 'Item'])['Qty', 'Cost'].sum().reset_index()\n",
    "    \n",
    "        \n",
    "    df_select_header = df_header[['Accounting_CustomerID', 'DocNo', 'Bill To']]\n",
    "    \n",
    "\n",
    "    df_combine_header_detail = pd.merge(df_sum_detail, df_select_header, how = 'left',  on = ['DocNo']) \n",
    "    \n",
    "    df_drop_dup_header = df_combine_header_detail.drop_duplicates()\n",
    "    \n",
    "    df_combine_rename = df_drop_dup_header.rename(columns = {'Header Billing Period Start':'Billing Period Start'})\n",
    "\n",
    "    df_combine_month = df_combine_rename.reindex(columns = ['Accounting_CustomerID', 'CustomerID', 'WISE Facility', \n",
    "                                                            'Bill Pay Category', 'Bill To', 'Billing Period Start', \n",
    "                                                            'DocNo', 'BillingCode', 'Item', 'Qty', 'Cost'])\n",
    "    \n",
    "    df_combine_month['Billing Period Start'] = month[excel]    \n",
    "    \n",
    "    \n",
    "    print(df_combine_month.shape)\n",
    "    \n",
    "    df_list.append(df_combine_month)\n",
    "    \n",
    "    \n",
    "    df_combine = df_combine.append(df_combine_month)\n",
    "    \n",
    "    print(df_combine.shape)"
   ]
  },
  {
   "cell_type": "code",
   "execution_count": null,
   "id": "7afe77a0",
   "metadata": {},
   "outputs": [],
   "source": [
    "df_list[len(df_list) - 1].sort_values('CustomerID')"
   ]
  },
  {
   "cell_type": "code",
   "execution_count": null,
   "id": "31b2a09c",
   "metadata": {},
   "outputs": [],
   "source": [
    "df_combine = df_combine.sort_values(['WISE Facility', 'Accounting_CustomerID', 'CustomerID'])\n",
    "df_combine['WISE Facility'] = df_combine['WISE Facility'].str.title()\n",
    "df_combine['Bill To'] = df_combine['Bill To'].str.upper()\n",
    "df_combine"
   ]
  },
  {
   "cell_type": "code",
   "execution_count": null,
   "id": "a3acd7b4",
   "metadata": {},
   "outputs": [],
   "source": [
    "df_combine.to_excel(\"03_2022 Accessorial Items Cost.xlsx\", index = False, header = True)"
   ]
  },
  {
   "cell_type": "markdown",
   "id": "d723c4d5",
   "metadata": {},
   "source": [
    "# MOVE FILES TO OUTPUT!"
   ]
  },
  {
   "cell_type": "code",
   "execution_count": null,
   "id": "28b70f0d",
   "metadata": {},
   "outputs": [],
   "source": []
  }
 ],
 "metadata": {
  "kernelspec": {
   "display_name": "Python 3 (ipykernel)",
   "language": "python",
   "name": "python3"
  },
  "language_info": {
   "codemirror_mode": {
    "name": "ipython",
    "version": 3
   },
   "file_extension": ".py",
   "mimetype": "text/x-python",
   "name": "python",
   "nbconvert_exporter": "python",
   "pygments_lexer": "ipython3",
   "version": "3.9.4"
  }
 },
 "nbformat": 4,
 "nbformat_minor": 5
}
