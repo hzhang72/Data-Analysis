{
 "cells": [
  {
   "cell_type": "markdown",
   "id": "c8377d64",
   "metadata": {},
   "source": [
    "### Load Packages"
   ]
  },
  {
   "cell_type": "code",
   "execution_count": null,
   "id": "2ee96913",
   "metadata": {},
   "outputs": [],
   "source": [
    "import pandas as pd\n",
    "import numpy as np\n",
    "import os\n",
    "\n",
    "pd.options.mode.chained_assignment = None"
   ]
  },
  {
   "cell_type": "markdown",
   "id": "1fe883c4",
   "metadata": {},
   "source": [
    "### Import Excel Files"
   ]
  },
  {
   "cell_type": "code",
   "execution_count": null,
   "id": "31925fd3",
   "metadata": {},
   "outputs": [],
   "source": [
    "folder = r'C:\\Users\\mazhang\\Documents\\Jupyter Notebook\\2021 Weekly Closed Invoice\\Closed_invoice_01_03_2021'\n",
    "files = os.listdir(folder)\n",
    "\n",
    "excel_list = []\n",
    "for file in files:\n",
    "    if file.endswith('.xlsx'):\n",
    "        df = pd.read_excel(os.path.join(folder, file), sheet_name = None)\n",
    "        excel_list.append(df)"
   ]
  },
  {
   "cell_type": "markdown",
   "id": "9301ea85",
   "metadata": {},
   "source": [
    "### Generate Weekly Report with Accounting ID, Facility and  Bill Pay Category, etc."
   ]
  },
  {
   "cell_type": "code",
   "execution_count": null,
   "id": "45070c7f",
   "metadata": {
    "scrolled": false
   },
   "outputs": [],
   "source": [
    "df_list = []\n",
    "\n",
    "for excel in range(len(excel_list)):\n",
    "    \n",
    "    df_header = excel_list[excel]['Header']\n",
    "    df_line = excel_list[excel]['Line']\n",
    "\n",
    "    df_select_header = df_header[['Accounting_CustomerID', 'CustomerID', 'DocNo', 'Facility', 'Bill To', 'InvoiceDate']]\n",
    "    df_drop_dup_header = df_select_header.drop_duplicates(subset = ['Accounting_CustomerID', 'DocNo',\n",
    "                                                                    'Facility', 'Bill To'])\n",
    "    \n",
    "    df_select_line = df_line[['CustomerID', 'Facility', 'Bill Pay Category', 'Bill To']]\n",
    "    df_drop_dup_line = df_select_line.drop_duplicates(subset = ['Facility', 'Bill To', 'Bill Pay Category'], \n",
    "                                                      keep = 'last')\n",
    "\n",
    "    df_combine_header_line = pd.merge(df_drop_dup_line, df_drop_dup_header, how = 'left', \n",
    "                                      on = ['Facility', 'Bill To']).T.drop_duplicates().T\n",
    "    df_combine_rename = df_combine_header_line.rename(columns = {\"CustomerID_x\": \"CustomerID\"})\n",
    "    df_combine_week = df_combine_rename.reindex(columns = ['Accounting_CustomerID', 'CustomerID', 'DocNo', 'Facility', \n",
    "                                                                 'Bill Pay Category', 'Bill To', 'InvoiceDate'])\n",
    "    print(df_combine_week.shape)\n",
    "    \n",
    "    df_list.append(df_combine_week)"
   ]
  },
  {
   "cell_type": "markdown",
   "id": "5238f213",
   "metadata": {},
   "source": [
    "### Generate Month Report with Accounting ID, Facility and  Bill Pay Category, etc."
   ]
  },
  {
   "cell_type": "code",
   "execution_count": null,
   "id": "523b1b90",
   "metadata": {},
   "outputs": [],
   "source": [
    "df_combine_list = []\n",
    "df_combine_month = df_list[0]\n",
    "\n",
    "for df in range(len(df_list)):\n",
    "    \n",
    "    df_combine_month = pd.merge(df_combine_month, df_list[df], how = 'outer', \n",
    "                                  on = ['Accounting_CustomerID', 'CustomerID', 'DocNo', \n",
    "                                        'Facility', 'Bill Pay Category', 'Bill To'])\n",
    "    print(df_combine_month.shape)\n",
    "    \n",
    "    df_combine_list.append(df_combine_month)\n",
    "    \n",
    "df_output_init = df_combine_list[-1]\n",
    "df_output = df_output_init.T.drop_duplicates().T\n",
    "df_output.rename({'InvoiceDate_x':'InvoiceDate', 'InvoiceDate_y':'InvoiceDate'}, axis = 'columns', inplace = True)\n",
    "\n",
    "print(df_output.shape)"
   ]
  },
  {
   "cell_type": "code",
   "execution_count": null,
   "id": "61464da5",
   "metadata": {},
   "outputs": [],
   "source": [
    "ls1 = np.array(df_output.columns[0:6])\n",
    "\n",
    "ls2 = np.array([])\n",
    "for num in np.arange(1, 1 + len(df_output.columns[6:])):\n",
    "    ls2 = np.append(ls2, str('Week ') + str(num))\n",
    "\n",
    "week_name = np.append(ls1, ls2)\n",
    "print(week_name)\n",
    "\n",
    "df_output.columns = week_name"
   ]
  },
  {
   "cell_type": "code",
   "execution_count": null,
   "id": "95c299d5",
   "metadata": {
    "scrolled": true
   },
   "outputs": [],
   "source": [
    "df_output.head()"
   ]
  },
  {
   "cell_type": "markdown",
   "id": "3ffa0e31",
   "metadata": {},
   "source": [
    "### Export Quarter Report As Excel File"
   ]
  },
  {
   "cell_type": "code",
   "execution_count": null,
   "id": "a0f7093e",
   "metadata": {},
   "outputs": [],
   "source": [
    "# df_output.to_excel(\"01_03_2021 Weekly Report.xlsx\", index = False, header = True)"
   ]
  },
  {
   "cell_type": "code",
   "execution_count": null,
   "id": "8d498111",
   "metadata": {},
   "outputs": [],
   "source": []
  }
 ],
 "metadata": {
  "kernelspec": {
   "display_name": "Python 3",
   "language": "python",
   "name": "python3"
  },
  "language_info": {
   "codemirror_mode": {
    "name": "ipython",
    "version": 3
   },
   "file_extension": ".py",
   "mimetype": "text/x-python",
   "name": "python",
   "nbconvert_exporter": "python",
   "pygments_lexer": "ipython3",
   "version": "3.8.8"
  }
 },
 "nbformat": 4,
 "nbformat_minor": 5
}
