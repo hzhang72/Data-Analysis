{
 "cells": [
  {
   "cell_type": "markdown",
   "id": "c8377d64",
   "metadata": {},
   "source": [
    "### Load Packages"
   ]
  },
  {
   "cell_type": "code",
   "execution_count": null,
   "id": "2ee96913",
   "metadata": {},
   "outputs": [],
   "source": [
    "import pandas as pd\n",
    "import numpy as np\n",
    "import os\n",
    "import warnings\n",
    "\n",
    "warnings.simplefilter(\"ignore\")\n",
    "\n",
    "pd.options.mode.chained_assignment = None"
   ]
  },
  {
   "cell_type": "markdown",
   "id": "1fe883c4",
   "metadata": {},
   "source": [
    "### Import Excel Files"
   ]
  },
  {
   "cell_type": "code",
   "execution_count": null,
   "id": "31925fd3",
   "metadata": {},
   "outputs": [],
   "source": [
    "folder = r'C:\\Users\\mazhang\\Documents\\Jupyter Notebook\\2021 Semi-Monthly Closed Invoice\\2021 Semi-Monthly Report\\Semi-Monthly Report Handling Count'\n",
    "files = os.listdir(folder)\n",
    "\n",
    "excel_list = []\n",
    "for file in files:\n",
    "    if file.endswith('.xlsx'):\n",
    "        df = pd.read_excel(os.path.join(folder, file), sheet_name = None)\n",
    "        excel_list.append(df)"
   ]
  },
  {
   "cell_type": "code",
   "execution_count": null,
   "id": "80108585",
   "metadata": {},
   "outputs": [],
   "source": [
    "df1 = excel_list[0]['Sheet1'].drop('Count', axis = 1).sort_values(['Accounting_CustomerID'])\n",
    "df2 = excel_list[1]['Sheet1'].drop('Count', axis = 1).sort_values(['Accounting_CustomerID'])\n",
    "df3 = excel_list[2]['Sheet1'].drop('Count', axis = 1).sort_values(['Accounting_CustomerID'])"
   ]
  },
  {
   "cell_type": "code",
   "execution_count": null,
   "id": "ccb0a4ec",
   "metadata": {},
   "outputs": [],
   "source": [
    "df_cb = df1.merge(df2, on = ['Accounting_CustomerID', 'CustomerID', \n",
    "                            'Facility', 'Bill Pay Category', \n",
    "                            'Bill To'], how = 'outer').merge(df3, on = ['Accounting_CustomerID', 'CustomerID', \n",
    "                                                                        'Facility', 'Bill Pay Category', \n",
    "                                                                        'Bill To'], how = 'outer')"
   ]
  },
  {
   "cell_type": "code",
   "execution_count": null,
   "id": "4f6a4e00",
   "metadata": {},
   "outputs": [],
   "source": [
    "# df_cb1 = pd.merge(df1, df2, how = 'outer',  on = ['Accounting_CustomerID', 'CustomerID', \n",
    "#                                                  'Facility', 'Bill Pay Category', 'Bill To']) \n",
    "# df_cb2 = pd.merge(df_cb1, df3, how = 'outer',  on = ['Accounting_CustomerID', 'CustomerID', \n",
    "#                                                  'Facility', 'Bill Pay Category', 'Bill To']) "
   ]
  },
  {
   "cell_type": "markdown",
   "id": "de26d132",
   "metadata": {},
   "source": [
    "### Generate Semi-Monthly Report with Billing Count and without Invoice Number"
   ]
  },
  {
   "cell_type": "code",
   "execution_count": null,
   "id": "069ff02b",
   "metadata": {},
   "outputs": [],
   "source": [
    "df_count = df_cb.T.drop_duplicates().T\n",
    "df_count['Count'] = df_count.drop(df_count.columns[0:5], axis = 1).nunique(axis = 1)\n",
    "df_count"
   ]
  },
  {
   "cell_type": "code",
   "execution_count": null,
   "id": "4ea8b86b",
   "metadata": {},
   "outputs": [],
   "source": [
    "df_count.columns.values[[range(5, 22)]] = np.repeat('Billing Period Start', len(range(5, 22)))"
   ]
  },
  {
   "cell_type": "code",
   "execution_count": null,
   "id": "9846d147",
   "metadata": {},
   "outputs": [],
   "source": [
    "df_count"
   ]
  },
  {
   "cell_type": "markdown",
   "id": "4e26e022",
   "metadata": {},
   "source": [
    "### Export Semi-Monthly Report As Excel File"
   ]
  },
  {
   "cell_type": "code",
   "execution_count": null,
   "id": "5c13d785",
   "metadata": {},
   "outputs": [],
   "source": [
    "# df_count.to_excel(\"012021_092021 Semi-Monthly Report Handling Count.xlsx\", index = False, header = True)"
   ]
  },
  {
   "cell_type": "code",
   "execution_count": null,
   "id": "6aebb8b8",
   "metadata": {},
   "outputs": [],
   "source": []
  }
 ],
 "metadata": {
  "kernelspec": {
   "display_name": "Python 3",
   "language": "python",
   "name": "python3"
  },
  "language_info": {
   "codemirror_mode": {
    "name": "ipython",
    "version": 3
   },
   "file_extension": ".py",
   "mimetype": "text/x-python",
   "name": "python",
   "nbconvert_exporter": "python",
   "pygments_lexer": "ipython3",
   "version": "3.8.8"
  }
 },
 "nbformat": 4,
 "nbformat_minor": 5
}
