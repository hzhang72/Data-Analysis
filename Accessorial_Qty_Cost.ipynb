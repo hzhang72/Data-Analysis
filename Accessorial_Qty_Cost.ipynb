{
 "cells": [
  {
   "cell_type": "markdown",
   "id": "c8377d64",
   "metadata": {},
   "source": [
    "### Load Packages"
   ]
  },
  {
   "cell_type": "code",
   "execution_count": null,
   "id": "2ee96913",
   "metadata": {},
   "outputs": [],
   "source": [
    "import pandas as pd\n",
    "import numpy as np\n",
    "import os\n",
    "import warnings\n",
    "\n",
    "warnings.simplefilter(\"ignore\")\n",
    "\n",
    "pd.options.mode.chained_assignment = None"
   ]
  },
  {
   "cell_type": "markdown",
   "id": "1fe883c4",
   "metadata": {},
   "source": [
    "### Import Excel Files"
   ]
  },
  {
   "cell_type": "code",
   "execution_count": null,
   "id": "31925fd3",
   "metadata": {},
   "outputs": [],
   "source": [
    "folder = r'C:\\Users\\mazhang\\Documents\\Jupyter Notebook\\Semi-Monthly Closed Invoice\\2022 Semi-Monthly Closed Invoice\\2022 Semi-Monthly Report\\Semi-Monthly Report Accessorial Qty Cost'\n",
    "files = os.listdir(folder)\n",
    "\n",
    "excel_list = []\n",
    "for file in files:\n",
    "    if file.endswith('.xlsx'):\n",
    "        df = pd.read_excel(os.path.join(folder, file), sheet_name = None)\n",
    "        excel_list.append(df)"
   ]
  },
  {
   "cell_type": "markdown",
   "id": "95978baf",
   "metadata": {},
   "source": [
    "### Combine Excel Files"
   ]
  },
  {
   "cell_type": "code",
   "execution_count": null,
   "id": "e9200949",
   "metadata": {
    "scrolled": true
   },
   "outputs": [],
   "source": [
    "df_combine = pd.DataFrame()\n",
    "\n",
    "for excel in range(len(excel_list)):\n",
    "    df_combine = df_combine.append(excel_list[excel]['Sheet1'])\n",
    "    \n",
    "    print(df_combine.shape)    "
   ]
  },
  {
   "cell_type": "code",
   "execution_count": null,
   "id": "b75763d0",
   "metadata": {
    "scrolled": false
   },
   "outputs": [],
   "source": [
    "df_combine"
   ]
  },
  {
   "cell_type": "code",
   "execution_count": null,
   "id": "556a2d88",
   "metadata": {},
   "outputs": [],
   "source": [
    "df_combine = df_combine.sort_values(['WISE Facility', 'Accounting_CustomerID', 'CustomerID'])\n",
    "df_combine['WISE Facility'] = df_combine['WISE Facility'].str.title()\n",
    "df_combine['Bill To'] = df_combine['Bill To'].str.upper()\n",
    "df_combine"
   ]
  },
  {
   "cell_type": "code",
   "execution_count": null,
   "id": "2b5cc763",
   "metadata": {},
   "outputs": [],
   "source": [
    "df_combine.to_excel(\"2022 Accessorial Items Cost.xlsx\", index = False, header = True)"
   ]
  },
  {
   "cell_type": "code",
   "execution_count": null,
   "id": "d52465df",
   "metadata": {},
   "outputs": [],
   "source": []
  }
 ],
 "metadata": {
  "kernelspec": {
   "display_name": "Python 3 (ipykernel)",
   "language": "python",
   "name": "python3"
  },
  "language_info": {
   "codemirror_mode": {
    "name": "ipython",
    "version": 3
   },
   "file_extension": ".py",
   "mimetype": "text/x-python",
   "name": "python",
   "nbconvert_exporter": "python",
   "pygments_lexer": "ipython3",
   "version": "3.9.4"
  }
 },
 "nbformat": 4,
 "nbformat_minor": 5
}
