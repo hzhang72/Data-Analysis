{
 "cells": [
  {
   "cell_type": "markdown",
   "id": "c8377d64",
   "metadata": {},
   "source": [
    "### Load Packages"
   ]
  },
  {
   "cell_type": "code",
   "execution_count": null,
   "id": "2ee96913",
   "metadata": {},
   "outputs": [],
   "source": [
    "import pandas as pd\n",
    "import numpy as np\n",
    "import os\n",
    "\n",
    "pd.options.mode.chained_assignment = None"
   ]
  },
  {
   "cell_type": "markdown",
   "id": "1fe883c4",
   "metadata": {},
   "source": [
    "### Import Excel Files"
   ]
  },
  {
   "cell_type": "code",
   "execution_count": null,
   "id": "31925fd3",
   "metadata": {},
   "outputs": [],
   "source": [
    "folder = r'C:\\Users\\mazhang\\Documents\\Jupyter Notebook\\2021 Half-Monthly Closed Invoice\\Closed_invoice_012021_092021'\n",
    "files = os.listdir(folder)\n",
    "\n",
    "excel_list = []\n",
    "for file in files:\n",
    "    if file.endswith('.xlsx'):\n",
    "        df = pd.read_excel(os.path.join(folder, file), sheet_name = None)\n",
    "        excel_list.append(df)"
   ]
  },
  {
   "cell_type": "markdown",
   "id": "9301ea85",
   "metadata": {},
   "source": [
    "### Generate Half-Monthly Report with Accounting ID, Facility and  Bill Pay Category, etc."
   ]
  },
  {
   "cell_type": "code",
   "execution_count": null,
   "id": "45070c7f",
   "metadata": {
    "scrolled": false
   },
   "outputs": [],
   "source": [
    "df_list = []\n",
    "\n",
    "for excel in range(len(excel_list)):\n",
    "    \n",
    "    df_header = excel_list[excel]['Header']\n",
    "    df_line = excel_list[excel]['Line']\n",
    "    df_detail = excel_list[excel]['Detail']\n",
    "\n",
    "    df_select_header = df_header[['Accounting_CustomerID', 'CustomerID', 'Facility', 'Bill To']]\n",
    "    df_select_header['Billing Period Start'] = df_detail['Header Billing Period Start']\n",
    "    df_drop_dup_header = df_select_header.drop_duplicates(subset = ['Accounting_CustomerID', 'Facility', 'Bill To'], \n",
    "                                                          keep = 'last')\n",
    "    \n",
    "    df_select_line = df_line[['CustomerID', 'Facility', 'Bill Pay Category', 'Bill To']]\n",
    "    df_drop_dup_line = df_select_line.drop_duplicates(subset = ['Facility', 'Bill To', 'Bill Pay Category'], \n",
    "                                                      keep = 'last')\n",
    "\n",
    "    df_combine_header_line = pd.merge(df_drop_dup_line, df_drop_dup_header, how = 'left', \n",
    "                                      on = ['Facility', 'Bill To']).T.drop_duplicates().T\n",
    "    df_combine_rename = df_combine_header_line.rename(columns = {\"CustomerID_x\": \"CustomerID\"})\n",
    "    df_combine_half_month = df_combine_rename.reindex(columns = ['Accounting_CustomerID', 'CustomerID', 'Facility', \n",
    "                                                                 'Bill Pay Category', 'Bill To', 'Billing Period Start'])\n",
    "    print(df_combine_half_month.shape)\n",
    "    \n",
    "    df_list.append(df_combine_half_month)"
   ]
  },
  {
   "cell_type": "markdown",
   "id": "5238f213",
   "metadata": {},
   "source": [
    "### Generate Quarter Report with Accounting ID, Facility and  Bill Pay Category, etc."
   ]
  },
  {
   "cell_type": "code",
   "execution_count": null,
   "id": "523b1b90",
   "metadata": {},
   "outputs": [],
   "source": [
    "df_combine_list = []\n",
    "df_combine_quarter = df_list[0]\n",
    "\n",
    "for df in range(len(df_list)):\n",
    "    \n",
    "    df_combine_quarter = pd.merge(df_combine_quarter, df_list[df], how = 'outer', \n",
    "                                  on = ['Accounting_CustomerID', 'CustomerID', 'Facility', 'Bill Pay Category', 'Bill To'])\n",
    "    print(df_combine_quarter.shape)\n",
    "    \n",
    "    df_combine_list.append(df_combine_quarter)\n",
    "    \n",
    "df_output_init = df_combine_list[-1]\n",
    "df_output = df_output_init.T.drop_duplicates().T\n",
    "df_output.rename({'Billing Period Start_x':'Billing Period Start', \n",
    "                'Billing Period Start_y':'Billing Period Start'}, axis = 'columns', inplace = True)\n",
    "print(df_output.shape)"
   ]
  },
  {
   "cell_type": "markdown",
   "id": "3ffa0e31",
   "metadata": {},
   "source": [
    "### Export Quarter Report As Excel File"
   ]
  },
  {
   "cell_type": "code",
   "execution_count": null,
   "id": "a0f7093e",
   "metadata": {},
   "outputs": [],
   "source": [
    "df_output.to_excel(\"Quarter Report.xlsx\", index = False, header = True)"
   ]
  },
  {
   "cell_type": "code",
   "execution_count": null,
   "id": "8d498111",
   "metadata": {},
   "outputs": [],
   "source": []
  },
  {
   "cell_type": "code",
   "execution_count": null,
   "id": "a17a8405",
   "metadata": {},
   "outputs": [],
   "source": []
  },
  {
   "cell_type": "markdown",
   "id": "c157ca09",
   "metadata": {},
   "source": [
    "# Method 1 For Convert"
   ]
  },
  {
   "cell_type": "markdown",
   "id": "63491291",
   "metadata": {},
   "source": [
    "### Convert Date Value to 0/1 Value"
   ]
  },
  {
   "cell_type": "code",
   "execution_count": null,
   "id": "fd6f2bb8",
   "metadata": {},
   "outputs": [],
   "source": [
    "name1 = np.array(df_output.columns[0:5])\n",
    "name2 = df_output.iloc[:, 5:].dropna().iloc[0].values\n",
    "name = np.concatenate((name1, name2))\n",
    "df1 = df_output.copy()\n",
    "df1.columns = name\n",
    "df1.head()"
   ]
  },
  {
   "cell_type": "code",
   "execution_count": null,
   "id": "6c11776d",
   "metadata": {},
   "outputs": [],
   "source": [
    "name_rp = np.concatenate((name, np.array(['09/21/2021', '09/22/2021'])))"
   ]
  },
  {
   "cell_type": "code",
   "execution_count": null,
   "id": "2bc64dc7",
   "metadata": {},
   "outputs": [],
   "source": [
    "df2 = df1.replace(to_replace=name_rp , value=1).fillna(0)\n",
    "df2"
   ]
  },
  {
   "cell_type": "code",
   "execution_count": null,
   "id": "d905e955",
   "metadata": {},
   "outputs": [],
   "source": [
    "# df2.to_excel(\"Quarter Report 0_1 new.xlsx\", index = False, header = True)"
   ]
  },
  {
   "cell_type": "markdown",
   "id": "8d765abf",
   "metadata": {},
   "source": [
    "### Extract Only Billed Once Account"
   ]
  },
  {
   "cell_type": "code",
   "execution_count": null,
   "id": "25f0ee20",
   "metadata": {},
   "outputs": [],
   "source": [
    "df3 = df_output.loc[df2.sum(axis=1) < 2]\n",
    "df3"
   ]
  },
  {
   "cell_type": "code",
   "execution_count": null,
   "id": "6d2e1395",
   "metadata": {},
   "outputs": [],
   "source": [
    "# df3.to_excel(\"Quarter Report Only billed Once.xlsx\", index = False, header = True)"
   ]
  },
  {
   "cell_type": "code",
   "execution_count": null,
   "id": "d224d54f",
   "metadata": {},
   "outputs": [],
   "source": []
  },
  {
   "cell_type": "markdown",
   "id": "8d55b984",
   "metadata": {},
   "source": [
    "# Method 2 For Convert (better)"
   ]
  },
  {
   "cell_type": "markdown",
   "id": "b89705bd",
   "metadata": {},
   "source": [
    "### Convert Date Value to 0/1 Value"
   ]
  },
  {
   "cell_type": "code",
   "execution_count": null,
   "id": "790f9072",
   "metadata": {},
   "outputs": [],
   "source": [
    "df0 = df_output.iloc[:, 6:].fillna(0)\n",
    "df0"
   ]
  },
  {
   "cell_type": "code",
   "execution_count": null,
   "id": "f36d146c",
   "metadata": {},
   "outputs": [],
   "source": [
    "uni_date_int = np.array(pd.unique(df0[['Billing Period Start']].values.ravel('K')))\n",
    "uni_date = np.delete(uni_date_int, np.argwhere(uni_date_int == 0))\n",
    "uni_date"
   ]
  },
  {
   "cell_type": "code",
   "execution_count": null,
   "id": "c301edf5",
   "metadata": {},
   "outputs": [],
   "source": [
    "df1 = df_output.copy()\n",
    "df2 = df1.replace(to_replace = uni_date , value = 1).fillna(0)\n",
    "df2"
   ]
  },
  {
   "cell_type": "markdown",
   "id": "cbaacbcf",
   "metadata": {},
   "source": [
    "### Extract Only Billed Once Account"
   ]
  },
  {
   "cell_type": "code",
   "execution_count": null,
   "id": "250d9f0e",
   "metadata": {},
   "outputs": [],
   "source": [
    "df3 = df_output.loc[df2.sum(axis = 1) < 2]\n",
    "df3"
   ]
  },
  {
   "cell_type": "code",
   "execution_count": null,
   "id": "2fc3eff2",
   "metadata": {},
   "outputs": [],
   "source": [
    "# df3.to_excel(\"Quarter Report Only billed Once.xlsx\", index = False, header = True)"
   ]
  },
  {
   "cell_type": "code",
   "execution_count": null,
   "id": "8d725c60",
   "metadata": {},
   "outputs": [],
   "source": []
  }
 ],
 "metadata": {
  "kernelspec": {
   "display_name": "Python 3",
   "language": "python",
   "name": "python3"
  },
  "language_info": {
   "codemirror_mode": {
    "name": "ipython",
    "version": 3
   },
   "file_extension": ".py",
   "mimetype": "text/x-python",
   "name": "python",
   "nbconvert_exporter": "python",
   "pygments_lexer": "ipython3",
   "version": "3.8.8"
  }
 },
 "nbformat": 4,
 "nbformat_minor": 5
}
