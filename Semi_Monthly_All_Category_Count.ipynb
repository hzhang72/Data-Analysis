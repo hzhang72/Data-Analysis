{
 "cells": [
  {
   "cell_type": "markdown",
   "id": "c8377d64",
   "metadata": {},
   "source": [
    "### Load Packages"
   ]
  },
  {
   "cell_type": "code",
   "execution_count": null,
   "id": "2ee96913",
   "metadata": {},
   "outputs": [],
   "source": [
    "import pandas as pd\n",
    "import numpy as np\n",
    "import os\n",
    "import warnings\n",
    "\n",
    "warnings.simplefilter(\"ignore\")\n",
    "\n",
    "pd.options.mode.chained_assignment = None"
   ]
  },
  {
   "cell_type": "markdown",
   "id": "1fe883c4",
   "metadata": {},
   "source": [
    "### Import Excel Files"
   ]
  },
  {
   "cell_type": "code",
   "execution_count": null,
   "id": "31925fd3",
   "metadata": {},
   "outputs": [],
   "source": [
    "folder = r'C:\\Users\\mazhang\\Documents\\Jupyter Notebook\\Semi-Monthly Closed Invoice\\2022 Semi-Monthly Closed Invoice\\2022 Semi-Monthly Report\\Semi-Monthly Report Others Count'\n",
    "files = os.listdir(folder)\n",
    "\n",
    "excel_list = []\n",
    "for file in files:\n",
    "    if file.endswith('.xlsx'):\n",
    "        df = pd.read_excel(os.path.join(folder, file), sheet_name = None)\n",
    "        excel_list.append(df)"
   ]
  },
  {
   "cell_type": "code",
   "execution_count": null,
   "id": "80108585",
   "metadata": {},
   "outputs": [],
   "source": [
    "df1 = excel_list[0]['Sheet1'].drop('Count', axis = 1).sort_values(['Accounting_CustomerID'])\n",
    "df2 = excel_list[1]['Sheet1'].drop('Count', axis = 1).sort_values(['Accounting_CustomerID'])\n",
    "df3 = excel_list[2]['Sheet1'].drop('Count', axis = 1).sort_values(['Accounting_CustomerID'])\n",
    "# df4 = excel_list[3]['Sheet1'].drop('Count', axis = 1).sort_values(['Accounting_CustomerID'])"
   ]
  },
  {
   "cell_type": "code",
   "execution_count": null,
   "id": "21e7ede5",
   "metadata": {},
   "outputs": [],
   "source": [
    "df_cb1 = pd.merge(df1, df2, how = 'outer',  on = ['Accounting_CustomerID', 'CustomerID', \n",
    "                                                 'WISE Facility', 'Bill Pay Category', 'Bill To']) \n",
    "df_cb2 = pd.merge(df_cb1, df3, how = 'outer',  on = ['Accounting_CustomerID', 'CustomerID', \n",
    "                                                 'WISE Facility', 'Bill Pay Category', 'Bill To']) \n",
    "# df_cb3 = pd.merge(df_cb2, df4, how = 'outer',  on = ['Accounting_CustomerID', 'CustomerID', \n",
    "#                                                  'Facility', 'Bill Pay Category', 'Bill To']) "
   ]
  },
  {
   "cell_type": "markdown",
   "id": "de26d132",
   "metadata": {},
   "source": [
    "### Generate Semi-Monthly Report with Billing Count and without Invoice Number"
   ]
  },
  {
   "cell_type": "code",
   "execution_count": null,
   "id": "069ff02b",
   "metadata": {},
   "outputs": [],
   "source": [
    "df_count = df_cb2.drop_duplicates()\n",
    "df_count['Count'] = df_count.drop(df_count.columns[0:5], axis = 1).nunique(axis = 1)\n",
    "df_count"
   ]
  },
  {
   "cell_type": "code",
   "execution_count": null,
   "id": "4ea8b86b",
   "metadata": {},
   "outputs": [],
   "source": [
    "df_count.columns.values[[range(5, len(df_count.columns)-1)]] = np.repeat('Billing Period Start', len(range(5, len(df_count.columns)-1)))"
   ]
  },
  {
   "cell_type": "code",
   "execution_count": null,
   "id": "13dbd7d7",
   "metadata": {},
   "outputs": [],
   "source": [
    "df_count"
   ]
  },
  {
   "cell_type": "code",
   "execution_count": null,
   "id": "3b03a47a",
   "metadata": {},
   "outputs": [],
   "source": []
  },
  {
   "cell_type": "code",
   "execution_count": null,
   "id": "9846d147",
   "metadata": {},
   "outputs": [],
   "source": [
    "# month = np.array(['Jan', 'Feb', 'Mar', 'Apr', 'May', 'Jun', 'Jul', 'Aug', 'Sep', 'Oct', 'Nov', 'Dec'])\n",
    "\n",
    "month = np.array(['Jan', 'Feb', 'Mar'])\n",
    "    \n",
    "semi_month = np.array([])\n",
    "for m in month:\n",
    "    semi_month = np.append(semi_month, m + '_Mid')\n",
    "    semi_month = np.append(semi_month, m + '_End')\n",
    "\n",
    "bp = np.where(df_count.columns.values == 'Billing Period Start')\n",
    "# dn = np.where(df_output.columns.values == 'DocNo')\n",
    "\n",
    "# dn_month = [x + '_DocNo' for x in semi_month]\n",
    "\n",
    "df_count.columns.values[bp] = semi_month\n",
    "# df_output.columns.values[dn] = dn_month\n",
    "\n",
    "df_count"
   ]
  },
  {
   "cell_type": "code",
   "execution_count": null,
   "id": "6364f983",
   "metadata": {},
   "outputs": [],
   "source": [
    "df_count = df_count.sort_values(['WISE Facility', 'Accounting_CustomerID', 'CustomerID'])\n",
    "df_count['WISE Facility'] = df_count['WISE Facility'].str.title()\n",
    "df_count['Bill To'] = df_count['Bill To'].str.upper()\n",
    "df_count = df_count.drop_duplicates(['WISE Facility', 'Accounting_CustomerID', 'CustomerID'])\n",
    "df_count"
   ]
  },
  {
   "cell_type": "markdown",
   "id": "4e26e022",
   "metadata": {},
   "source": [
    "### Export Semi-Monthly Report As Excel File"
   ]
  },
  {
   "cell_type": "code",
   "execution_count": null,
   "id": "5c13d785",
   "metadata": {},
   "outputs": [],
   "source": [
    "df_count.to_excel(\"2022 Semi-Monthly Report Others Count.xlsx\", index = False, header = True)"
   ]
  },
  {
   "cell_type": "code",
   "execution_count": null,
   "id": "6aebb8b8",
   "metadata": {},
   "outputs": [],
   "source": []
  }
 ],
 "metadata": {
  "kernelspec": {
   "display_name": "Python 3 (ipykernel)",
   "language": "python",
   "name": "python3"
  },
  "language_info": {
   "codemirror_mode": {
    "name": "ipython",
    "version": 3
   },
   "file_extension": ".py",
   "mimetype": "text/x-python",
   "name": "python",
   "nbconvert_exporter": "python",
   "pygments_lexer": "ipython3",
   "version": "3.9.4"
  }
 },
 "nbformat": 4,
 "nbformat_minor": 5
}
