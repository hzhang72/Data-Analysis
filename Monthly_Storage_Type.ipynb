{
 "cells": [
  {
   "cell_type": "markdown",
   "id": "c8377d64",
   "metadata": {},
   "source": [
    "### Load Packages"
   ]
  },
  {
   "cell_type": "code",
   "execution_count": null,
   "id": "2ee96913",
   "metadata": {},
   "outputs": [],
   "source": [
    "import pandas as pd\n",
    "import numpy as np\n",
    "import os\n",
    "import warnings\n",
    "import datetime\n",
    "import re\n",
    "\n",
    "warnings.simplefilter(\"ignore\")\n",
    "\n",
    "pd.options.mode.chained_assignment = None"
   ]
  },
  {
   "cell_type": "markdown",
   "id": "1fe883c4",
   "metadata": {},
   "source": [
    "### Import Excel Files"
   ]
  },
  {
   "cell_type": "code",
   "execution_count": null,
   "id": "31925fd3",
   "metadata": {},
   "outputs": [],
   "source": [
    "folder = r'C:\\Users\\mazhang\\Documents\\Jupyter Notebook\\Monthly Closed Invoice\\Monthly Storage Income\\2022'\n",
    "files = os.listdir(folder)\n",
    "\n",
    "excel_list = []\n",
    "for file in files:\n",
    "    if file.endswith('.xlsx'):\n",
    "        df = pd.read_excel(os.path.join(folder, file), sheet_name = None)\n",
    "        excel_list.append(df)"
   ]
  },
  {
   "cell_type": "code",
   "execution_count": null,
   "id": "3521c37c",
   "metadata": {},
   "outputs": [],
   "source": [
    "df_list = []\n",
    "# month = ['Jan', 'Feb', 'Mar', 'Apr', 'May', 'Jun', 'Jul', 'Aug', 'Sep', 'Oct', 'Nov', 'Dec']\n",
    "\n",
    "month = ['Jan', 'Feb', 'Mar']\n",
    "\n",
    "for excel in range(len(excel_list)):\n",
    "    \n",
    "    df = excel_list[excel]['Sheet1']\n",
    "    df = df.fillna('N/A')\n",
    "\n",
    "    df1 = df.groupby(['WISE Facility', 'Customer', 'Accounting_CustomerID'])['Amount'].sum().reset_index()\n",
    "    df2 = df1.rename(columns = {'Amount': month[excel]})\n",
    "    \n",
    "    print(df2.shape)\n",
    "    \n",
    "    df_list.append(df2)"
   ]
  },
  {
   "cell_type": "code",
   "execution_count": null,
   "id": "117c21fe",
   "metadata": {},
   "outputs": [],
   "source": [
    "df_list[-1]"
   ]
  },
  {
   "cell_type": "code",
   "execution_count": null,
   "id": "bef770e3",
   "metadata": {},
   "outputs": [],
   "source": [
    "df_combine_list = []\n",
    "df_combine_year = df_list[0]\n",
    "\n",
    "for df in range(1, len(df_list)):\n",
    "    \n",
    "    df_combine_year = pd.merge(df_combine_year, df_list[df], how = 'outer', \n",
    "                                  on = ['WISE Facility', 'Customer', 'Accounting_CustomerID'])\n",
    "    print(df_combine_year.shape)\n",
    "    \n",
    "    df_combine_list.append(df_combine_year)\n",
    "    \n",
    "df_output_init = df_combine_list[-1]\n",
    "df_output = df_output_init.drop_duplicates().sort_values(['WISE Facility', 'Accounting_CustomerID']).fillna(0)"
   ]
  },
  {
   "cell_type": "code",
   "execution_count": null,
   "id": "7ea9cc7d",
   "metadata": {},
   "outputs": [],
   "source": [
    "df_output"
   ]
  },
  {
   "cell_type": "code",
   "execution_count": null,
   "id": "5f5fc7fb",
   "metadata": {},
   "outputs": [],
   "source": [
    "df_sum = df_output.copy(deep = True)\n",
    "\n",
    "df_sum['Total Bill Amount'] = df_sum.sum(axis = 1)\n",
    "\n",
    "df_sum = df_sum.sort_values(['WISE Facility', 'Accounting_CustomerID', 'Customer'])\n",
    "df_sum['WISE Facility'] = df_sum['WISE Facility'].str.title()\n",
    "df_sum['Customer'] = df_sum['Customer'].str.upper()\n",
    "df_sum"
   ]
  },
  {
   "cell_type": "code",
   "execution_count": null,
   "id": "f0814e1f",
   "metadata": {},
   "outputs": [],
   "source": []
  },
  {
   "cell_type": "code",
   "execution_count": null,
   "id": "b4756755",
   "metadata": {},
   "outputs": [],
   "source": [
    "folder_type = r'C:\\Users\\mazhang\\Documents\\Jupyter Notebook\\Monthly Closed Invoice\\Monthly Storage Income\\2022\\Raw Data'\n",
    "file_type = 'Customer Type.xlsx'\n",
    "df_type = pd.read_excel(os.path.join(folder_type, file_type))\n",
    "\n",
    "df_type['Customer'] = df_type['Customer'].str.upper()\n",
    "df_type"
   ]
  },
  {
   "cell_type": "code",
   "execution_count": null,
   "id": "dd64f0f8",
   "metadata": {},
   "outputs": [],
   "source": []
  },
  {
   "cell_type": "code",
   "execution_count": null,
   "id": "08647d8c",
   "metadata": {},
   "outputs": [],
   "source": [
    "df_combine = pd.merge(df_sum, df_type, how = 'left',  on = ['Customer'])\n",
    "df_combine"
   ]
  },
  {
   "cell_type": "code",
   "execution_count": null,
   "id": "5f649353",
   "metadata": {},
   "outputs": [],
   "source": []
  },
  {
   "cell_type": "code",
   "execution_count": null,
   "id": "ab18301e",
   "metadata": {},
   "outputs": [],
   "source": [
    "df_acc = df_combine['Account Type']\n",
    "df_combine = df_combine.drop(columns = 'Account Type')\n",
    "df_combine.insert(loc = 1, column = 'Account Type', value = df_acc)\n",
    "\n",
    "df_bus = df_combine['Business Type']\n",
    "df_combine = df_combine.drop(columns = 'Business Type')\n",
    "df_combine.insert(loc = 2, column = 'Business Type', value = df_bus)\n",
    "\n",
    "df_combine"
   ]
  },
  {
   "cell_type": "code",
   "execution_count": null,
   "id": "79c9785b",
   "metadata": {},
   "outputs": [],
   "source": [
    "df_combine.to_excel(\"2022 Monthly Storage Income.xlsx\", index = False, header = True)"
   ]
  },
  {
   "cell_type": "code",
   "execution_count": null,
   "id": "1c59b1d1",
   "metadata": {},
   "outputs": [],
   "source": []
  }
 ],
 "metadata": {
  "kernelspec": {
   "display_name": "Python 3 (ipykernel)",
   "language": "python",
   "name": "python3"
  },
  "language_info": {
   "codemirror_mode": {
    "name": "ipython",
    "version": 3
   },
   "file_extension": ".py",
   "mimetype": "text/x-python",
   "name": "python",
   "nbconvert_exporter": "python",
   "pygments_lexer": "ipython3",
   "version": "3.9.4"
  }
 },
 "nbformat": 4,
 "nbformat_minor": 5
}
